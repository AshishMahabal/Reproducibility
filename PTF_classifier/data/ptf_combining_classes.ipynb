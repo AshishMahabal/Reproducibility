{
 "cells": [
  {
   "cell_type": "code",
   "execution_count": 6,
   "metadata": {},
   "outputs": [
    {
     "data": {
      "text/plain": [
       "'all_56/X_features.npy'"
      ]
     },
     "execution_count": 6,
     "metadata": {},
     "output_type": "execute_result"
    }
   ],
   "source": [
    "import numpy as np\n",
    "import os\n",
    "import shutil\n",
    "\n",
    "y=np.load(\"all/y.npy\")\n",
    "\n",
    "os.mkdir('all_56/')\n",
    "\n",
    "six=np.where(y==6)[0]\n",
    "\n",
    "for i in range(six.shape[0]):\n",
    "    y[six[i]]=5\n",
    "\n",
    "np.save(\"all_56/y\",y)\n",
    "shutil.copy2(\"all/X_2d.npy\",\"all_56\")\n",
    "shutil.copy2(\"all/X_features.npy\",\"all_56\")"
   ]
  },
  {
   "cell_type": "code",
   "execution_count": 10,
   "metadata": {},
   "outputs": [
    {
     "data": {
      "text/plain": [
       "'all_456/X_features.npy'"
      ]
     },
     "execution_count": 10,
     "metadata": {},
     "output_type": "execute_result"
    }
   ],
   "source": [
    "os.mkdir('all_456/')\n",
    "y=np.load(\"all/y.npy\")\n",
    "five=np.where(y==5)[0]\n",
    "\n",
    "for i in range(six.shape[0]):\n",
    "    y[six[i]]=4\n",
    "for i in range(five.shape[0]):\n",
    "    y[five[i]]=4\n",
    "    \n",
    "np.save(\"all_456/y\",y)\n",
    "shutil.copy2(\"all/X_2d.npy\",\"all_456\")\n",
    "shutil.copy2(\"all/X_features.npy\",\"all_456\")"
   ]
  }
 ],
 "metadata": {
  "kernelspec": {
   "display_name": "Python 3",
   "language": "python",
   "name": "python3"
  },
  "language_info": {
   "codemirror_mode": {
    "name": "ipython",
    "version": 3
   },
   "file_extension": ".py",
   "mimetype": "text/x-python",
   "name": "python",
   "nbconvert_exporter": "python",
   "pygments_lexer": "ipython3",
   "version": "3.6.4"
  }
 },
 "nbformat": 4,
 "nbformat_minor": 2
}
