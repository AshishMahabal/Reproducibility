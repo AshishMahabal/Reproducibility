{
 "cells": [
  {
   "cell_type": "code",
   "execution_count": 1,
   "metadata": {},
   "outputs": [
    {
     "name": "stderr",
     "output_type": "stream",
     "text": [
      "Can not use cuDNN on context None: cannot compile with cuDNN. We got this error:\n",
      "b'/tmp/try_flags_0l460e0c.c:4:10: fatal error: cudnn.h: No such file or directory\\n #include <cudnn.h>\\n          ^~~~~~~~~\\ncompilation terminated.\\n'\n",
      "Mapped name None to device cuda0: Tesla P100-PCIE-12GB (0000:81:00.0)\n",
      "/data/mbg/anaconda3/lib/python3.6/site-packages/lasagne/layers/corrmm.py:37: UserWarning: You are using a GPU layer with Theano configured for double precision (floatX=float64). Depending on your Theano version and GPU, this may be slow or unsupported. We recommend to configure Theano for single precision (floatX=float32); see http://lasagne.readthedocs.org/en/latest/user/installation.html#gpu-support.\n",
      "  warnings.warn(\"You are using a GPU layer with Theano configured for \"\n",
      "/data/mbg/anaconda3/lib/python3.6/site-packages/sklearn/cross_validation.py:41: DeprecationWarning: This module was deprecated in version 0.18 in favor of the model_selection module into which all the refactored classes and functions are moved. Also note that the interface of the new CV iterators are different from that of this module. This module will be removed in 0.20.\n",
      "  \"This module will be removed in 0.20.\", DeprecationWarning)\n",
      "Using TensorFlow backend.\n"
     ]
    }
   ],
   "source": [
    "import configparser\n",
    "import pandas as pd\n",
    "import theano\n",
    "import theano.gpuarray\n",
    "theano.gpuarray.use(\"cuda\" + str(0))\n",
    "from nolearn.lasagne import visualize\n",
    "import matplotlib.pyplot as plt\n",
    "import numpy as np\n",
    "from numpy import genfromtxt\n",
    "import pygpu\n",
    "from pygpu import gpuarray\n",
    "from six.moves import cPickle\n",
    "import os\n",
    "import matplotlib.colors as mcolors\n",
    "from mpl_toolkits.axes_grid1 import make_axes_locatable\n",
    "import statistics as stats\n",
    "import glob\n",
    "from texttable import Texttable\n",
    "import keras\n",
    "from keras.models import Sequential\n",
    "from keras.layers import Dense, Activation\n",
    "\n",
    "#import matplotlib\n",
    "#matplotlib.use('Agg')\n",
    "\n",
    "import os\n",
    "os.environ[\"CUDA_DEVICE_ORDER\"] = \"PCI_BUS_ID\"   # see issue #152\n",
    "os.environ[\"CUDA_VISIBLE_DEVICES\"] = \"1\"\n",
    "\n",
    "#from utils.util import plot_confusion\n",
    "#import utils.generate as gen\n",
    "\n",
    "import copy\n",
    "#import generate\n",
    "import numpy as np\n",
    "from sklearn import metrics\n",
    "import pandas as pd\n",
    "#import matplotlib.pyplot as plt\n",
    "import seaborn\n",
    "import keras\n",
    "import keras.backend.tensorflow_backend as K\n",
    "from keras.models import Sequential\n",
    "from keras.layers import Conv2D\n",
    "from keras.layers import MaxPooling2D\n",
    "from keras.layers import Dropout\n",
    "from keras.layers import Dense\n",
    "from keras.layers import Flatten\n",
    "from keras.engine.topology import Input\n",
    "from keras.optimizers import Adam\n",
    "from keras import regularizers\n",
    "from keras.models import load_model\n",
    "from sklearn.metrics import accuracy_score\n",
    "from sklearn.model_selection import train_test_split\n",
    "from sklearn import preprocessing\n",
    "\n",
    "import lasagne\n",
    "\n",
    "from vis.visualization import visualize_activation, visualize_saliency, visualize_cam\n",
    "from vis.utils import utils\n",
    "from keras import activations\n",
    "\n",
    "\n",
    "f=open('periodic/p_obj.save','rb')\n",
    "net=cPickle.load(f)\n",
    "f.close()\n"
   ]
  },
  {
   "cell_type": "code",
   "execution_count": 2,
   "metadata": {},
   "outputs": [],
   "source": [
    "model = Sequential()\n",
    "\n",
    "model.add(Conv2D(filters=16, kernel_size=(5, 5), activation=\"relu\", \n",
    "                 #data_format = \"channels_first\",\n",
    "                 kernel_regularizer=regularizers.l2(0.01), \n",
    "                 input_shape=(22, 24, 1),padding='valid',\n",
    "                 name=\"conv2d1\"))\n",
    "model.add(MaxPooling2D(pool_size=(2, 2), padding='valid', \n",
    "                  #     data_format = \"channels_first\",\n",
    "                       name=\"maxpool2d1\"\n",
    "                      ))\n",
    "#model.add(Dropout(rate=0.1))\n",
    "\n",
    "model.add(Conv2D(filters=64, kernel_size=(5, 5), activation=\"relu\", \n",
    "                 kernel_regularizer=regularizers.l2(0.01),\n",
    "                 padding='valid', \n",
    "                 #data_format = \"channels_first\",\n",
    "                 name=\"conv2d2\"\n",
    "                ))\n",
    "\n",
    "#model.add(Conv2D(filters=256, kernel_size=(5, 5), activation=\"relu\", kernel_regularizer=regularizers.l2(0.01)))\n",
    "\n",
    "model.add(Flatten(\n",
    "    #data_format = \"channels_first\", \n",
    "    name=\"flatten\"))\n",
    "#model.add(Dense(units=512, kernel_regularizer=regularizers.l2(0.01)))\n",
    "#model.add(Dropout(rate=0.5))\n",
    "#model.add(Dense(units=512, kernel_regularizer=regularizers.l2(0.01)))\n",
    "\n",
    "model.add(Dense(units=7, activation=\"softmax\", name=\"preds\"))\n"
   ]
  },
  {
   "cell_type": "code",
   "execution_count": 3,
   "metadata": {},
   "outputs": [],
   "source": [
    "weights = lasagne.layers.get_all_param_values(net.get_all_layers()[-1])"
   ]
  },
  {
   "cell_type": "code",
   "execution_count": 4,
   "metadata": {},
   "outputs": [],
   "source": [
    "#weights[0]=weights[0].reshape((5,5,1,16))\n",
    "#weights[2]=weights[2].reshape((5,5,16,64))\n",
    "weights[0]=np.transpose(weights[0],(2,3,1,0))\n",
    "weights[2]=np.transpose(weights[2],(2,3,1,0))"
   ]
  },
  {
   "cell_type": "code",
   "execution_count": 5,
   "metadata": {},
   "outputs": [
    {
     "data": {
      "text/plain": [
       "(5, 5, 1, 16)"
      ]
     },
     "execution_count": 5,
     "metadata": {},
     "output_type": "execute_result"
    }
   ],
   "source": [
    "weights[0].shape"
   ]
  },
  {
   "cell_type": "code",
   "execution_count": 6,
   "metadata": {},
   "outputs": [],
   "source": [
    "#weights[0].reshape((5,5,1,16))\n",
    "model.set_weights(weights)"
   ]
  },
  {
   "cell_type": "code",
   "execution_count": 7,
   "metadata": {},
   "outputs": [
    {
     "name": "stderr",
     "output_type": "stream",
     "text": [
      "/data/mbg/anaconda3/lib/python3.6/site-packages/keras/engine/saving.py:270: UserWarning: No training configuration found in save file: the model was *not* compiled. Compile it manually.\n",
      "  warnings.warn('No training configuration found in save file: '\n"
     ]
    }
   ],
   "source": [
    "layer_idx = utils.find_layer_idx(model, 'preds')\n",
    "# Swap softmax with linear\n",
    "model.layers[layer_idx].activation = activations.linear\n",
    "model = utils.apply_modifications(model)"
   ]
  },
  {
   "cell_type": "code",
   "execution_count": 8,
   "metadata": {
    "scrolled": true
   },
   "outputs": [
    {
     "data": {
      "text/plain": [
       "<matplotlib.image.AxesImage at 0x7f73087ec8d0>"
      ]
     },
     "execution_count": 8,
     "metadata": {},
     "output_type": "execute_result"
    },
    {
     "data": {
      "image/png": "[encoded data removed]",
      "text/plain": [
       "<Figure size 1296x432 with 1 Axes>"
      ]
     },
     "metadata": {},
     "output_type": "display_data"
    }
   ],
   "source": [
    "from matplotlib import pyplot as plt\n",
    "#%matplotlib inline\n",
    "plt.rcParams['figure.figsize'] = (18, 6)\n",
    "\n",
    "layer_idx = utils.find_layer_idx(model, 'preds')\n",
    "# Swap softmax with linear\n",
    "#model.layers[layer_idx].activation = activations.linear\n",
    "#model = utils.apply_modifications(model)\n",
    "\n",
    "# This is the output node we want to maximize.\n",
    "filter_idx = 1\n",
    "input_range= (0.,1.)\n",
    "img_act = visualize_activation(model, \n",
    "                               layer_idx, \n",
    "                               filter_indices=filter_idx, \n",
    "                               input_range=input_range,\n",
    "                               #verbose=True,\n",
    "                               tv_weight=0.2, \n",
    "                               lp_norm_weight=0.\n",
    "                              )\n",
    "plt.imshow(img_act[:,:,0])"
   ]
  },
  {
   "cell_type": "code",
   "execution_count": 9,
   "metadata": {},
   "outputs": [
    {
     "data": {
      "text/plain": [
       "<function keras.activations.linear>"
      ]
     },
     "execution_count": 9,
     "metadata": {},
     "output_type": "execute_result"
    }
   ],
   "source": [
    "model.layers[-1].activation"
   ]
  },
  {
   "cell_type": "code",
   "execution_count": 10,
   "metadata": {},
   "outputs": [
    {
     "data": {
      "text/plain": [
       "(22, 24, 1)"
      ]
     },
     "execution_count": 10,
     "metadata": {},
     "output_type": "execute_result"
    }
   ],
   "source": [
    "img_act.shape"
   ]
  },
  {
   "cell_type": "code",
   "execution_count": 11,
   "metadata": {},
   "outputs": [],
   "source": [
    "x_train=np.load(\"periodic/X_train.npy\")\n",
    "x_test=np.load(\"periodic/X_test.npy\")\n",
    "\n",
    "y_train=np.load(\"periodic/y_train.npy\")\n",
    "y_test=np.load(\"periodic/y_test.npy\")\n",
    "\n",
    "x=np.concatenate((x_train, x_test))\n",
    "y=np.concatenate((y_train, y_test))\n",
    "\n",
    "classes=[1,2,4,5,6,8,13]\n",
    "filterid={1:0,2:1,4:2,5:3,6:4,8:5,13:6}"
   ]
  },
  {
   "cell_type": "code",
   "execution_count": 12,
   "metadata": {},
   "outputs": [
    {
     "data": {
      "text/plain": [
       "<matplotlib.image.AxesImage at 0x7f730872abe0>"
      ]
     },
     "execution_count": 12,
     "metadata": {},
     "output_type": "execute_result"
    },
    {
     "data": {
      "text/plain": [
       "<Figure size 1296x432 with 0 Axes>"
      ]
     },
     "metadata": {},
     "output_type": "display_data"
    },
    {
     "data": {
      "image/png": "[encoded data removed]",
      "text/plain": [
       "<Figure size 1296x432 with 2 Axes>"
      ]
     },
     "metadata": {},
     "output_type": "display_data"
    }
   ],
   "source": [
    "plt.rcParams['figure.figsize'] = (18, 6)\n",
    "layer_idx = utils.find_layer_idx(model, 'preds')\n",
    "penultimate_layer_idx = utils.find_layer_idx(model, 'conv2d2')\n",
    "# Swap softmax with linear\n",
    "#model.layers[layer_idx].activation = activations.linear\n",
    "#model = utils.apply_modifications(model)\n",
    "\n",
    "\n",
    "# This is the output node we want to maximize.\n",
    "filter_idx = 2\n",
    "#input_range= (0,255)\n",
    "#image=np.random.random_sample((22,24,1))\n",
    "image=x[6].transpose((1,2,0))\n",
    "img_cam = visualize_cam(model, layer_idx, filter_indices=filter_idx, seed_input=image, \n",
    "                             penultimate_layer_idx=penultimate_layer_idx)\n",
    "plt.figure()\n",
    "fig, ax=plt.subplots(1,2)\n",
    "ax[0].imshow(image[:,:,0])\n",
    "ax[1].imshow(img_cam)"
   ]
  },
  {
   "cell_type": "code",
   "execution_count": 14,
   "metadata": {},
   "outputs": [
    {
     "data": {
      "text/plain": [
       "<matplotlib.image.AxesImage at 0x7fc6a46e2780>"
      ]
     },
     "execution_count": 14,
     "metadata": {},
     "output_type": "execute_result"
    },
    {
     "data": {
      "text/plain": [
       "<Figure size 1296x432 with 0 Axes>"
      ]
     },
     "metadata": {},
     "output_type": "display_data"
    },
    {
     "data": {
      "image/png": "[encoded data removed]",
      "text/plain": [
       "<Figure size 1296x432 with 2 Axes>"
      ]
     },
     "metadata": {},
     "output_type": "display_data"
    }
   ],
   "source": [
    "plt.rcParams['figure.figsize'] = (18, 6)\n",
    "\n",
    "layer_idx = utils.find_layer_idx(model, 'preds')\n",
    "penultimate_layer_idx = utils.find_layer_idx(model, 'conv2d2')\n",
    "# Swap softmax with linear\n",
    "#model.layers[layer_idx].activation = activations.linear\n",
    "#model = utils.apply_modifications(model)\n",
    "\n",
    "# This is the output node we want to maximize.\n",
    "filter_idx = 0\n",
    "#input_range= (0,255)\n",
    "#image=np.random.random_sample((22,24,1))\n",
    "image=x[6].transpose((1,2,0))\n",
    "img_sal = visualize_saliency(model, layer_idx, filter_indices=filter_idx, seed_input=image, \n",
    "                             #penultimate_layer_idx=penultimate_layer_idx\n",
    "                            )\n",
    "#plt.figure()\n",
    "plt.figure()\n",
    "fig, ax=plt.subplots(1,2)\n",
    "ax[0].imshow(image[:,:,0])\n",
    "ax[1].imshow(img_sal)"
   ]
  },
  {
   "cell_type": "code",
   "execution_count": null,
   "metadata": {},
   "outputs": [],
   "source": []
  }
 ],
 "metadata": {
  "kernelspec": {
   "display_name": "Python 3",
   "language": "python",
   "name": "python3"
  },
  "language_info": {
   "codemirror_mode": {
    "name": "ipython",
    "version": 3
   },
   "file_extension": ".py",
   "mimetype": "text/x-python",
   "name": "python",
   "nbconvert_exporter": "python",
   "pygments_lexer": "ipython3",
   "version": "3.6.4"
  }
 },
 "nbformat": 4,
 "nbformat_minor": 2
}
