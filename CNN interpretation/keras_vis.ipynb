{
 "cells": [
  {
   "cell_type": "code",
   "execution_count": 1,
   "metadata": {},
   "outputs": [
    {
     "name": "stderr",
     "output_type": "stream",
     "text": [
      "Can not use cuDNN on context None: cannot compile with cuDNN. We got this error:\n",
      "b'/tmp/try_flags_uvfsnf55.c:4:10: fatal error: cudnn.h: No such file or directory\\n #include <cudnn.h>\\n          ^~~~~~~~~\\ncompilation terminated.\\n'\n",
      "Mapped name None to device cuda0: Tesla P100-PCIE-12GB (0000:81:00.0)\n",
      "/data/mbg/anaconda3/lib/python3.6/site-packages/lasagne/layers/corrmm.py:37: UserWarning: You are using a GPU layer with Theano configured for double precision (floatX=float64). Depending on your Theano version and GPU, this may be slow or unsupported. We recommend to configure Theano for single precision (floatX=float32); see http://lasagne.readthedocs.org/en/latest/user/installation.html#gpu-support.\n",
      "  warnings.warn(\"You are using a GPU layer with Theano configured for \"\n",
      "/data/mbg/anaconda3/lib/python3.6/site-packages/sklearn/cross_validation.py:41: DeprecationWarning: This module was deprecated in version 0.18 in favor of the model_selection module into which all the refactored classes and functions are moved. Also note that the interface of the new CV iterators are different from that of this module. This module will be removed in 0.20.\n",
      "  \"This module will be removed in 0.20.\", DeprecationWarning)\n",
      "Using TensorFlow backend.\n"
     ]
    }
   ],
   "source": [
    "import configparser\n",
    "import pandas as pd\n",
    "import theano\n",
    "import theano.gpuarray\n",
    "theano.gpuarray.use(\"cuda\" + str(0))\n",
    "from nolearn.lasagne import visualize\n",
    "import matplotlib.pyplot as plt\n",
    "import numpy as np\n",
    "from numpy import genfromtxt\n",
    "import pygpu\n",
    "from pygpu import gpuarray\n",
    "from six.moves import cPickle\n",
    "import os\n",
    "import matplotlib.colors as mcolors\n",
    "from mpl_toolkits.axes_grid1 import make_axes_locatable\n",
    "import statistics as stats\n",
    "import glob\n",
    "from texttable import Texttable\n",
    "import keras\n",
    "from keras.models import Sequential\n",
    "from keras.layers import Dense, Activation\n",
    "\n",
    "#import matplotlib\n",
    "#matplotlib.use('Agg')\n",
    "\n",
    "import os\n",
    "os.environ[\"CUDA_DEVICE_ORDER\"] = \"PCI_BUS_ID\"   # see issue #152\n",
    "os.environ[\"CUDA_VISIBLE_DEVICES\"] = \"1\"\n",
    "\n",
    "#from utils.util import plot_confusion\n",
    "#import utils.generate as gen\n",
    "\n",
    "import copy\n",
    "#import generate\n",
    "import numpy as np\n",
    "from sklearn import metrics\n",
    "import pandas as pd\n",
    "#import matplotlib.pyplot as plt\n",
    "import seaborn\n",
    "import keras\n",
    "import keras.backend.tensorflow_backend as K\n",
    "from keras.models import Sequential\n",
    "from keras.layers import Conv2D\n",
    "from keras.layers import MaxPooling2D\n",
    "from keras.layers import Dropout\n",
    "from keras.layers import Dense\n",
    "from keras.layers import Flatten\n",
    "from keras.engine.topology import Input\n",
    "from keras.optimizers import Adam\n",
    "from keras import regularizers\n",
    "from keras.models import load_model\n",
    "from sklearn.metrics import accuracy_score\n",
    "from sklearn.model_selection import train_test_split\n",
    "from sklearn import preprocessing\n",
    "\n",
    "\n",
    "f=open('p_obj.save','rb')\n",
    "net=cPickle.load(f)\n",
    "f.close()\n"
   ]
  },
  {
   "cell_type": "code",
   "execution_count": 2,
   "metadata": {},
   "outputs": [
    {
     "data": {
      "text/plain": [
       "NeuralNet(X_tensor_type=None,\n",
       "     batch_iterator_test=<nolearn.lasagne.base.BatchIterator object at 0x7f21f8fb7b00>,\n",
       "     batch_iterator_train=<nolearn.lasagne.base.BatchIterator object at 0x7f21f8fb79b0>,\n",
       "     check_input=True, custom_scores=None,\n",
       "     layers=[(<class 'lasagne.layers.input.InputLayer'>, {'name': 'input', 'shape': (None, 1, 22, 24)}), (<class 'lasagne.layers.conv.Conv2DLayer'>, {'name': 'conv2d1', 'num_filters': 16, 'filter_size': (5, 5), 'pad': 0, 'nonlinearity': <function rectify at 0x7f2210af0ea0>}), (<class 'lasagne.layers.pool...eLayer'>, {'name': 'output', 'num_units': 7, 'nonlinearity': <function softmax at 0x7f2210af0d90>})],\n",
       "     loss=None, max_epochs=500, more_params={},\n",
       "     objective=<function objective at 0x7f2210073ea0>, objective_l2=0.0025,\n",
       "     objective_loss_function=<function categorical_crossentropy at 0x7f2210a6c598>,\n",
       "     on_batch_finished=[],\n",
       "     on_epoch_finished=[<nolearn.lasagne.handlers.PrintLog object at 0x7f21f8fb7c50>],\n",
       "     on_training_finished=[],\n",
       "     on_training_started=[<nolearn.lasagne.handlers.PrintLayerInfo object at 0x7f21f8fb7c88>],\n",
       "     regression=False, scores_train=[], scores_valid=[],\n",
       "     train_split=<nolearn.lasagne.base.TrainSplit object at 0x7f21f8fb7b38>,\n",
       "     update=<function adam at 0x7f2210a73378>, update_learning_rate=0.0002,\n",
       "     use_label_encoder=False, verbose=1,\n",
       "     y_tensor_type=TensorType(int32, vector))"
      ]
     },
     "execution_count": 2,
     "metadata": {},
     "output_type": "execute_result"
    }
   ],
   "source": [
    "net"
   ]
  },
  {
   "cell_type": "code",
   "execution_count": 3,
   "metadata": {},
   "outputs": [],
   "source": [
    "model = Sequential()\n",
    "\n",
    "model.add(Conv2D(filters=16, kernel_size=(5, 5), activation=\"relu\", \n",
    "                 data_format = \"channels_first\",\n",
    "                 kernel_regularizer=regularizers.l2(0.01), \n",
    "                 input_shape=(1, 22, 24),padding='valid',\n",
    "                 name=\"conv2d1\"))\n",
    "model.add(MaxPooling2D(pool_size=(2, 2), padding='valid', \n",
    "                       data_format = \"channels_first\",\n",
    "                       name=\"maxpool2d1\"\n",
    "                      ))\n",
    "#model.add(Dropout(rate=0.1))\n",
    "\n",
    "model.add(Conv2D(filters=64, kernel_size=(5, 5), activation=\"relu\", \n",
    "                 kernel_regularizer=regularizers.l2(0.01),\n",
    "                 padding='valid', \n",
    "                 data_format = \"channels_first\",\n",
    "                 name=\"conv2d2\"\n",
    "                ))\n",
    "\n",
    "#model.add(Conv2D(filters=256, kernel_size=(5, 5), activation=\"relu\", kernel_regularizer=regularizers.l2(0.01)))\n",
    "\n",
    "model.add(Flatten(data_format = \"channels_first\", name=\"flatten\"))\n",
    "#model.add(Dense(units=512, kernel_regularizer=regularizers.l2(0.01)))\n",
    "#model.add(Dropout(rate=0.5))\n",
    "#model.add(Dense(units=512, kernel_regularizer=regularizers.l2(0.01)))\n",
    "\n",
    "model.add(Dense(units=7, activation=\"softmax\", name=\"preds\"))\n"
   ]
  },
  {
   "cell_type": "code",
   "execution_count": 4,
   "metadata": {},
   "outputs": [],
   "source": [
    "import lasagne\n",
    "weights = lasagne.layers.get_all_param_values(net.get_all_layers()[-1])"
   ]
  },
  {
   "cell_type": "code",
   "execution_count": 5,
   "metadata": {},
   "outputs": [],
   "source": [
    "#weights[0]=weights[0].reshape((5,5,1,16))\n",
    "#weights[2]=weights[2].reshape((5,5,16,64))\n",
    "weights[0]=np.transpose(weights[0],(2,3,1,0))\n",
    "weights[2]=np.transpose(weights[2],(2,3,1,0))"
   ]
  },
  {
   "cell_type": "code",
   "execution_count": 6,
   "metadata": {},
   "outputs": [
    {
     "data": {
      "text/plain": [
       "(5, 5, 1, 16)"
      ]
     },
     "execution_count": 6,
     "metadata": {},
     "output_type": "execute_result"
    }
   ],
   "source": [
    "weights[0].shape"
   ]
  },
  {
   "cell_type": "code",
   "execution_count": 7,
   "metadata": {},
   "outputs": [],
   "source": [
    "#weights[0].reshape((5,5,1,16))\n",
    "model.set_weights(weights)"
   ]
  },
  {
   "cell_type": "code",
   "execution_count": 12,
   "metadata": {},
   "outputs": [],
   "source": [
    "from vis.visualization import visualize_activation, visualize_saliency, visualize_cam\n",
    "from vis.utils import utils\n",
    "from keras import activations\n"
   ]
  },
  {
   "cell_type": "code",
   "execution_count": 9,
   "metadata": {
    "scrolled": true
   },
   "outputs": [
    {
     "data": {
      "text/plain": [
       "<matplotlib.image.AxesImage at 0x7f21dc6d85f8>"
      ]
     },
     "execution_count": 9,
     "metadata": {},
     "output_type": "execute_result"
    },
    {
     "data": {
      "image/png": "[encoded data removed]",
      "text/plain": [
       "<Figure size 432x288 with 1 Axes>"
      ]
     },
     "metadata": {},
     "output_type": "display_data"
    }
   ],
   "source": [
    "from matplotlib import pyplot as plt\n",
    "%matplotlib inline\n",
    "#plt.rcParams['figure.figsize'] = (18, 6)\n",
    "\n",
    "layer_idx = utils.find_layer_idx(model, 'preds')\n",
    "# Swap softmax with linear\n",
    "#model.layers[layer_idx].activation = activations.linear\n",
    "#model = utils.apply_modifications(model)\n",
    "\n",
    "# This is the output node we want to maximize.\n",
    "filter_idx = 5\n",
    "#input_range= (0,255)\n",
    "img_act = visualize_activation(model, layer_idx, filter_indices=filter_idx)\n",
    "plt.imshow(img_act[0])"
   ]
  },
  {
   "cell_type": "code",
   "execution_count": 10,
   "metadata": {},
   "outputs": [
    {
     "data": {
      "text/plain": [
       "array([[116, 169, 133, 127, 133, 120, 165, 110, 131, 105, 104,  75, 139,\n",
       "        114, 144, 109, 131, 119, 120, 137, 136, 123, 122, 126],\n",
       "       [108, 114, 136, 102, 103, 114, 122, 100, 104, 131, 130, 154, 132,\n",
       "        125, 128, 115, 128, 115, 118, 126, 139, 110, 117, 115],\n",
       "       [ 88,  98, 105, 107, 106, 111, 117, 156, 106,  96, 127, 146, 137,\n",
       "        131, 144,  92,  98, 101, 114, 108, 129, 102, 116, 132],\n",
       "       [115, 120, 116, 136, 123,  83,  88,  89,  83,  92,  82, 129, 114,\n",
       "         89,  93,  92, 109, 107, 111, 167, 170, 116, 113, 124],\n",
       "       [160, 118,  86, 121, 153, 145, 155, 155, 149, 158, 124, 105, 115,\n",
       "        135,  90, 159, 141, 129, 166, 143, 156, 143, 106, 107],\n",
       "       [113, 119,  98, 111, 129, 121, 141, 137, 171, 162, 149, 156, 156,\n",
       "        123, 100, 135, 177, 104, 149, 160, 174, 135, 108, 102],\n",
       "       [144, 161, 136, 153, 134,  84,  75,  84,  95, 106, 157, 167, 146,\n",
       "        148, 110, 111, 113, 103,  98, 163, 145, 153, 135, 113],\n",
       "       [130, 125, 127, 128, 157, 167, 124,  98, 100, 109, 106, 126,  87,\n",
       "        113, 110, 113, 121,  97, 117, 144, 156, 138, 116, 107],\n",
       "       [133, 120, 160, 143, 114, 162, 139,  82,  83, 121, 111, 110, 100,\n",
       "        112,  96, 121, 158, 114, 131, 139, 149, 121,  63,  91],\n",
       "       [107,  82, 130,  98, 124, 165, 164, 165, 111,  85, 167, 131, 116,\n",
       "        145, 137, 137, 131, 107,  99, 149, 138, 117,  66,  81],\n",
       "       [108, 102, 132, 151, 157, 128, 149, 188, 151, 107, 161, 165, 106,\n",
       "        108, 135, 156, 136, 145, 157, 175, 155, 159,  87,  62],\n",
       "       [141, 112, 133, 129, 162, 134, 130,  61,  85,  89, 164, 158, 136,\n",
       "        101, 118, 127, 133, 138, 149, 154, 173, 152, 112,  93],\n",
       "       [131, 157, 124, 130, 118, 111, 122, 129, 131,  92, 161, 168,  95,\n",
       "        101, 124, 131, 115,  80, 156, 148, 157, 118, 106,  73],\n",
       "       [ 87, 127, 125, 134, 117, 108, 167, 171, 115, 134, 132, 158, 122,\n",
       "        144, 127, 160, 153, 137, 172, 157, 151, 116, 105, 114],\n",
       "       [158, 160, 141, 148, 128, 104, 106, 104, 147, 140, 141, 119, 115,\n",
       "        142, 154, 146, 123, 139, 164, 141,  88,  96,  91, 107],\n",
       "       [153, 131, 134, 101, 126, 142, 105, 102, 144, 148, 142, 165, 111,\n",
       "        129, 131, 123,  98,  98, 113, 100,  91, 106, 137, 133],\n",
       "       [148, 139,  97,  97, 108, 140, 159, 174, 172, 184, 187, 129, 116,\n",
       "        149, 159, 145, 149, 118, 115, 103, 101, 120, 154, 145],\n",
       "       [146, 165, 174, 164, 152, 129, 138, 142, 151, 153, 164, 137, 104,\n",
       "         93, 110, 142, 157, 135, 122, 124, 152, 152, 152, 114],\n",
       "       [ 92, 138, 179, 142, 170, 129,  84,  86, 121, 166, 127, 101, 112,\n",
       "        113,  83,  91,  96, 102, 152, 169, 169, 134, 111,  78],\n",
       "       [ 72,  80,  76,  79, 108, 122, 100, 123, 156, 176, 181, 174, 118,\n",
       "        138, 136, 133,  86,  97, 164, 165, 183, 145, 103,  89],\n",
       "       [155, 103,  94, 115, 136, 148, 145, 112, 148, 145, 104, 139, 112,\n",
       "        107, 115, 103,  98, 113, 112, 134, 134, 148, 101,  82],\n",
       "       [125, 127, 144, 149, 154, 150, 130, 175, 155, 145, 134, 103, 109,\n",
       "         83, 109, 159, 159, 159, 135, 152, 144, 156, 137, 145]], dtype=uint8)"
      ]
     },
     "execution_count": 10,
     "metadata": {},
     "output_type": "execute_result"
    }
   ],
   "source": [
    "img_act[0]"
   ]
  },
  {
   "cell_type": "code",
   "execution_count": 13,
   "metadata": {},
   "outputs": [
    {
     "name": "stderr",
     "output_type": "stream",
     "text": [
      "/data/mbg/anaconda3/lib/python3.6/site-packages/keras/engine/saving.py:270: UserWarning: No training configuration found in save file: the model was *not* compiled. Compile it manually.\n",
      "  warnings.warn('No training configuration found in save file: '\n"
     ]
    },
    {
     "data": {
      "text/plain": [
       "<matplotlib.image.AxesImage at 0x7f21b40ae320>"
      ]
     },
     "execution_count": 13,
     "metadata": {},
     "output_type": "execute_result"
    },
    {
     "data": {
      "image/png": "[encoded data removed]",
      "text/plain": [
       "<Figure size 1296x432 with 1 Axes>"
      ]
     },
     "metadata": {},
     "output_type": "display_data"
    }
   ],
   "source": [
    "plt.rcParams['figure.figsize'] = (18, 6)\n",
    "layer_idx = utils.find_layer_idx(model, 'preds')\n",
    "penultimate_layer_idx = utils.find_layer_idx(model, 'conv2d2')\n",
    "# Swap softmax with linear\n",
    "model.layers[layer_idx].activation = activations.linear\n",
    "model = utils.apply_modifications(model)\n",
    "\n",
    "# This is the output node we want to maximize.\n",
    "filter_idx = 6\n",
    "#input_range= (0,255)\n",
    "image=np.random.random_sample((1,1,22,24))\n",
    "img_cam = visualize_cam(model, layer_idx, filter_indices=filter_idx, seed_input=image, \n",
    "                             penultimate_layer_idx=penultimate_layer_idx)\n",
    "plt.imshow(img_cam[0])"
   ]
  },
  {
   "cell_type": "code",
   "execution_count": 14,
   "metadata": {},
   "outputs": [
    {
     "name": "stderr",
     "output_type": "stream",
     "text": [
      "/data/mbg/anaconda3/lib/python3.6/site-packages/keras/engine/saving.py:270: UserWarning: No training configuration found in save file: the model was *not* compiled. Compile it manually.\n",
      "  warnings.warn('No training configuration found in save file: '\n"
     ]
    },
    {
     "data": {
      "text/plain": [
       "<matplotlib.image.AxesImage at 0x7f21ac0f54e0>"
      ]
     },
     "execution_count": 14,
     "metadata": {},
     "output_type": "execute_result"
    },
    {
     "data": {
      "image/png": "[encoded data removed]",
      "text/plain": [
       "<Figure size 1296x432 with 1 Axes>"
      ]
     },
     "metadata": {},
     "output_type": "display_data"
    }
   ],
   "source": [
    "plt.rcParams['figure.figsize'] = (18, 6)\n",
    "\n",
    "layer_idx = utils.find_layer_idx(model, 'conv2d1')\n",
    "penultimate_layer_idx = utils.find_layer_idx(model, 'conv2d2')\n",
    "# Swap softmax with linear\n",
    "model.layers[layer_idx].activation = activations.linear\n",
    "model = utils.apply_modifications(model)\n",
    "\n",
    "# This is the output node we want to maximize.\n",
    "filter_idx = 3\n",
    "#input_range= (0,255)\n",
    "image=np.random.random_sample((1,1,22,24))\n",
    "img_sal = visualize_saliency(model, layer_idx, filter_indices=filter_idx, seed_input=image, \n",
    "                             #penultimate_layer_idx=penultimate_layer_idx\n",
    "                            )\n",
    "plt.imshow(img_sal[0])"
   ]
  },
  {
   "cell_type": "code",
   "execution_count": 15,
   "metadata": {},
   "outputs": [
    {
     "data": {
      "text/plain": [
       "(1, 22, 3)"
      ]
     },
     "execution_count": 15,
     "metadata": {},
     "output_type": "execute_result"
    }
   ],
   "source": [
    "img_sal.shape"
   ]
  },
  {
   "cell_type": "code",
   "execution_count": 16,
   "metadata": {},
   "outputs": [
    {
     "data": {
      "text/plain": [
       "array([[[[ 0.50363753,  0.22730139,  0.87097963,  0.97382963,  0.26855444,\n",
       "           0.55416829,  0.23259333,  0.49008346,  0.20566745,  0.26942207,\n",
       "           0.45870388,  0.82542834,  0.09267232,  0.0681137 ,  0.89537326,\n",
       "           0.6428165 ,  0.60956288,  0.49921736,  0.8268729 ,  0.82614087,\n",
       "           0.64257381,  0.52547189,  0.09207433,  0.84141577],\n",
       "         [ 0.0553332 ,  0.57420691,  0.52135561,  0.31862061,  0.35881708,\n",
       "           0.98454908,  0.24929031,  0.60411297,  0.42675492,  0.37035885,\n",
       "           0.57834079,  0.41853069,  0.03653761,  0.04873499,  0.15565555,\n",
       "           0.31803148,  0.16784397,  0.92411729,  0.07980836,  0.63349448,\n",
       "           0.72268039,  0.09381151,  0.37380709,  0.20804531],\n",
       "         [ 0.61780126,  0.38241345,  0.79670351,  0.68226791,  0.31065872,\n",
       "           0.10305059,  0.40503124,  0.4062719 ,  0.86707217,  0.20108464,\n",
       "           0.38820774,  0.78254864,  0.76627512,  0.68474002,  0.46025192,\n",
       "           0.43990666,  0.53980471,  0.7633473 ,  0.11572354,  0.12275957,\n",
       "           0.97375476,  0.3506968 ,  0.6799685 ,  0.28081831],\n",
       "         [ 0.83666094,  0.93173131,  0.52033823,  0.67512079,  0.63450896,\n",
       "           0.67522037,  0.07981409,  0.70346895,  0.09219902,  0.96189021,\n",
       "           0.57086923,  0.95887444,  0.15990368,  0.37699602,  0.82756477,\n",
       "           0.14446649,  0.56864922,  0.73054803,  0.35041142,  0.21814235,\n",
       "           0.32310804,  0.04483754,  0.70360108,  0.81493376],\n",
       "         [ 0.31599662,  0.57098847,  0.31425994,  0.15216845,  0.69614565,\n",
       "           0.65387521,  0.99779171,  0.25367424,  0.66814734,  0.89774017,\n",
       "           0.69604225,  0.37700368,  0.16771859,  0.99145309,  0.0150445 ,\n",
       "           0.9933764 ,  0.91749105,  0.48567888,  0.5573872 ,  0.85926846,\n",
       "           0.29529354,  0.45905156,  0.78587868,  0.58331429],\n",
       "         [ 0.06754338,  0.95917092,  0.64329167,  0.03898933,  0.76688142,\n",
       "           0.112943  ,  0.87711345,  0.43441095,  0.05713068,  0.78380486,\n",
       "           0.72988707,  0.69034496,  0.44757669,  0.80790376,  0.23615384,\n",
       "           0.8782774 ,  0.79899047,  0.97034659,  0.13040184,  0.9753808 ,\n",
       "           0.49754497,  0.76656627,  0.9055212 ,  0.97810674],\n",
       "         [ 0.58465811,  0.65255339,  0.4921609 ,  0.25406781,  0.58469214,\n",
       "           0.10249803,  0.70927881,  0.52643346,  0.40318293,  0.80690725,\n",
       "           0.60074526,  0.81117614,  0.97653625,  0.35892132,  0.98188395,\n",
       "           0.50753185,  0.89741235,  0.28253607,  0.82867456,  0.52900065,\n",
       "           0.650557  ,  0.78861208,  0.91022639,  0.57650785],\n",
       "         [ 0.72020637,  0.61884588,  0.39829363,  0.01074795,  0.29726092,\n",
       "           0.2635775 ,  0.92963263,  0.45119484,  0.11139865,  0.77668576,\n",
       "           0.37072588,  0.86526522,  0.06121958,  0.73751317,  0.47332759,\n",
       "           0.81413051,  0.58005638,  0.98458637,  0.05780908,  0.72668075,\n",
       "           0.46058184,  0.75387028,  0.51782076,  0.22197991],\n",
       "         [ 0.79502646,  0.56340262,  0.74080605,  0.15249256,  0.11747922,\n",
       "           0.55050454,  0.38024597,  0.92634797,  0.6231221 ,  0.89840414,\n",
       "           0.76662844,  0.54202316,  0.69316851,  0.31983941,  0.07014306,\n",
       "           0.17811249,  0.61674263,  0.98989958,  0.22424608,  0.94241465,\n",
       "           0.6740388 ,  0.60178675,  0.37971298,  0.96290731],\n",
       "         [ 0.71531014,  0.54111475,  0.18222261,  0.76639087,  0.25298197,\n",
       "           0.82367729,  0.96359075,  0.80217448,  0.16566846,  0.00375447,\n",
       "           0.25507901,  0.14651214,  0.38881777,  0.45122171,  0.61255109,\n",
       "           0.82258811,  0.06806485,  0.04309437,  0.86796419,  0.13009778,\n",
       "           0.00662898,  0.02423848,  0.28269224,  0.20989541],\n",
       "         [ 0.1612871 ,  0.51056888,  0.94681283,  0.2686165 ,  0.563759  ,\n",
       "           0.19650148,  0.42933895,  0.91548021,  0.80394529,  0.41658731,\n",
       "           0.51771168,  0.59962781,  0.44126575,  0.17849813,  0.19038228,\n",
       "           0.08010851,  0.24701667,  0.6948858 ,  0.2557024 ,  0.64030092,\n",
       "           0.46937532,  0.63187702,  0.76664053,  0.82111811],\n",
       "         [ 0.28113168,  0.90923199,  0.08799901,  0.48959794,  0.05485357,\n",
       "           0.05429384,  0.417769  ,  0.94986454,  0.17928384,  0.42732371,\n",
       "           0.29318602,  0.08765761,  0.15354109,  0.53624487,  0.13691956,\n",
       "           0.74548642,  0.19953563,  0.01191776,  0.03745461,  0.26214878,\n",
       "           0.43239132,  0.05737037,  0.40244257,  0.61361399],\n",
       "         [ 0.19722084,  0.89558098,  0.11661792,  0.56989163,  0.64810684,\n",
       "           0.27472766,  0.59773197,  0.02830971,  0.1084826 ,  0.81247862,\n",
       "           0.8072173 ,  0.05305658,  0.6293807 ,  0.06255898,  0.94672631,\n",
       "           0.31747157,  0.46620191,  0.63344683,  0.32816223,  0.30942617,\n",
       "           0.23571459,  0.86023874,  0.44888297,  0.42302995],\n",
       "         [ 0.76969801,  0.87840537,  0.78728462,  0.13024365,  0.00381219,\n",
       "           0.01069258,  0.04076537,  0.10546828,  0.87677235,  0.60454382,\n",
       "           0.7176444 ,  0.63475472,  0.77987738,  0.86298418,  0.83594943,\n",
       "           0.47095584,  0.34150139,  0.59368379,  0.35609497,  0.67189199,\n",
       "           0.4698528 ,  0.56317113,  0.88820952,  0.3409052 ],\n",
       "         [ 0.69549625,  0.58394632,  0.28259868,  0.48598447,  0.90177935,\n",
       "           0.65832257,  0.06486513,  0.94935225,  0.12645116,  0.31081307,\n",
       "           0.49660179,  0.16251259,  0.97688807,  0.10980715,  0.41042746,\n",
       "           0.82172683,  0.47376908,  0.10608754,  0.47839722,  0.62352559,\n",
       "           0.39098527,  0.85804338,  0.40498056,  0.53021789],\n",
       "         [ 0.06708608,  0.9259603 ,  0.8660829 ,  0.30570739,  0.28286766,\n",
       "           0.89441425,  0.40204413,  0.9083055 ,  0.17331758,  0.74444602,\n",
       "           0.04250718,  0.66889123,  0.30679039,  0.81412183,  0.55448617,\n",
       "           0.07619252,  0.77733357,  0.93991105,  0.20514646,  0.53458528,\n",
       "           0.86901439,  0.1243438 ,  0.26152067,  0.84062442],\n",
       "         [ 0.43316694,  0.87492462,  0.72330715,  0.8774877 ,  0.70104182,\n",
       "           0.54556735,  0.37163978,  0.13077781,  0.7887336 ,  0.38789904,\n",
       "           0.40396832,  0.69197416,  0.54791177,  0.93183238,  0.27857543,\n",
       "           0.44293895,  0.64370127,  0.56682313,  0.78495595,  0.37247596,\n",
       "           0.44747457,  0.40152132,  0.28470015,  0.12274055],\n",
       "         [ 0.69103373,  0.58427253,  0.36902325,  0.26749805,  0.11287473,\n",
       "           0.16487817,  0.56341109,  0.30718297,  0.50504561,  0.90272334,\n",
       "           0.64809288,  0.34994731,  0.80039908,  0.8829749 ,  0.84300969,\n",
       "           0.97955588,  0.37394134,  0.84235118,  0.2325689 ,  0.7056306 ,\n",
       "           0.40209201,  0.81871469,  0.78060637,  0.26662852],\n",
       "         [ 0.0709608 ,  0.27429017,  0.4316508 ,  0.32230542,  0.39560908,\n",
       "           0.31155525,  0.21305818,  0.75650433,  0.16435979,  0.10160946,\n",
       "           0.93853805,  0.05085705,  0.24528513,  0.80380847,  0.85631165,\n",
       "           0.39053321,  0.5400233 ,  0.26956661,  0.0396967 ,  0.15228317,\n",
       "           0.17745488,  0.63792104,  0.41513378,  0.69660711],\n",
       "         [ 0.79555016,  0.57663474,  0.68290598,  0.54934803,  0.97720575,\n",
       "           0.77228564,  0.99720953,  0.45613096,  0.44059633,  0.6802918 ,\n",
       "           0.04730626,  0.17559535,  0.08672771,  0.36621233,  0.35871016,\n",
       "           0.64517558,  0.66545268,  0.91236018,  0.6259705 ,  0.26742684,\n",
       "           0.44012328,  0.75009797,  0.75125583,  0.18457286],\n",
       "         [ 0.04856828,  0.17182137,  0.74288484,  0.8170263 ,  0.29014778,\n",
       "           0.10463981,  0.71586138,  0.00209921,  0.8466835 ,  0.56686001,\n",
       "           0.11818902,  0.97599791,  0.58528832,  0.99281766,  0.94979374,\n",
       "           0.88635375,  0.31442264,  0.20899816,  0.80223443,  0.22610944,\n",
       "           0.89913195,  0.87956053,  0.32858431,  0.75197294],\n",
       "         [ 0.41691528,  0.75712388,  0.56899833,  0.51298822,  0.82849507,\n",
       "           0.75299068,  0.50890171,  0.7011673 ,  0.45589978,  0.6174957 ,\n",
       "           0.09218712,  0.67107392,  0.76170832,  0.56677758,  0.14027894,\n",
       "           0.80284117,  0.69640544,  0.52002314,  0.68689241,  0.4851341 ,\n",
       "           0.73493011,  0.99454074,  0.17709899,  0.19476632]]]])"
      ]
     },
     "execution_count": 16,
     "metadata": {},
     "output_type": "execute_result"
    }
   ],
   "source": [
    "image"
   ]
  },
  {
   "cell_type": "code",
   "execution_count": null,
   "metadata": {},
   "outputs": [],
   "source": []
  },
  {
   "cell_type": "code",
   "execution_count": null,
   "metadata": {},
   "outputs": [],
   "source": []
  },
  {
   "cell_type": "code",
   "execution_count": null,
   "metadata": {},
   "outputs": [],
   "source": []
  },
  {
   "cell_type": "code",
   "execution_count": 103,
   "metadata": {},
   "outputs": [],
   "source": [
    "import h5py\n",
    "hf=h5py.File(\"weight.h5\", 'w')\n",
    "spec_dtype = h5py.special_dtype(vlen=np.dtype('float64'))\n",
    "hf.create_dataset(\"dataset_1\",data=weights, dtype=spec_dtype)\n",
    "hf.close()"
   ]
  },
  {
   "cell_type": "code",
   "execution_count": 130,
   "metadata": {
    "scrolled": true
   },
   "outputs": [
    {
     "ename": "ValueError",
     "evalue": "You are trying to load a weight file containing 0 layers into a model with 3 layers.",
     "output_type": "error",
     "traceback": [
      "\u001b[0;31m---------------------------------------------------------------------------\u001b[0m",
      "\u001b[0;31mValueError\u001b[0m                                Traceback (most recent call last)",
      "\u001b[0;32m<ipython-input-130-1ce4382ecdbe>\u001b[0m in \u001b[0;36m<module>\u001b[0;34m()\u001b[0m\n\u001b[0;32m----> 1\u001b[0;31m \u001b[0mmodel\u001b[0m\u001b[0;34m.\u001b[0m\u001b[0mload_weights\u001b[0m\u001b[0;34m(\u001b[0m\u001b[0;34m\"weight.h5\"\u001b[0m\u001b[0;34m)\u001b[0m\u001b[0;34m\u001b[0m\u001b[0m\n\u001b[0m",
      "\u001b[0;32m/data/mbg/anaconda3/lib/python3.6/site-packages/keras/engine/network.py\u001b[0m in \u001b[0;36mload_weights\u001b[0;34m(self, filepath, by_name, skip_mismatch, reshape)\u001b[0m\n\u001b[1;32m   1178\u001b[0m             \u001b[0;32melse\u001b[0m\u001b[0;34m:\u001b[0m\u001b[0;34m\u001b[0m\u001b[0m\n\u001b[1;32m   1179\u001b[0m                 saving.load_weights_from_hdf5_group(\n\u001b[0;32m-> 1180\u001b[0;31m                     f, self.layers, reshape=reshape)\n\u001b[0m\u001b[1;32m   1181\u001b[0m \u001b[0;34m\u001b[0m\u001b[0m\n\u001b[1;32m   1182\u001b[0m     \u001b[0;32mdef\u001b[0m \u001b[0m_updated_config\u001b[0m\u001b[0;34m(\u001b[0m\u001b[0mself\u001b[0m\u001b[0;34m)\u001b[0m\u001b[0;34m:\u001b[0m\u001b[0;34m\u001b[0m\u001b[0m\n",
      "\u001b[0;32m/data/mbg/anaconda3/lib/python3.6/site-packages/keras/engine/saving.py\u001b[0m in \u001b[0;36mload_weights_from_hdf5_group\u001b[0;34m(f, layers, reshape)\u001b[0m\n\u001b[1;32m    899\u001b[0m                          \u001b[0;34m'containing '\u001b[0m \u001b[0;34m+\u001b[0m \u001b[0mstr\u001b[0m\u001b[0;34m(\u001b[0m\u001b[0mlen\u001b[0m\u001b[0;34m(\u001b[0m\u001b[0mlayer_names\u001b[0m\u001b[0;34m)\u001b[0m\u001b[0;34m)\u001b[0m \u001b[0;34m+\u001b[0m\u001b[0;34m\u001b[0m\u001b[0m\n\u001b[1;32m    900\u001b[0m                          \u001b[0;34m' layers into a model with '\u001b[0m \u001b[0;34m+\u001b[0m\u001b[0;34m\u001b[0m\u001b[0m\n\u001b[0;32m--> 901\u001b[0;31m                          str(len(filtered_layers)) + ' layers.')\n\u001b[0m\u001b[1;32m    902\u001b[0m \u001b[0;34m\u001b[0m\u001b[0m\n\u001b[1;32m    903\u001b[0m     \u001b[0;31m# We batch weight value assignments in a single backend call\u001b[0m\u001b[0;34m\u001b[0m\u001b[0;34m\u001b[0m\u001b[0m\n",
      "\u001b[0;31mValueError\u001b[0m: You are trying to load a weight file containing 0 layers into a model with 3 layers."
     ]
    }
   ],
   "source": [
    "model.load_weights(\"weight.h5\")"
   ]
  },
  {
   "cell_type": "code",
   "execution_count": 43,
   "metadata": {},
   "outputs": [
    {
     "data": {
      "text/plain": [
       "[(lasagne.layers.input.InputLayer,\n",
       "  {'name': 'input', 'shape': (None, 1, 22, 24)}),\n",
       " (lasagne.layers.conv.Conv2DLayer,\n",
       "  {'filter_size': (5, 5),\n",
       "   'name': 'conv2d1',\n",
       "   'nonlinearity': <function lasagne.nonlinearities.rectify>,\n",
       "   'num_filters': 16,\n",
       "   'pad': 0}),\n",
       " (lasagne.layers.pool.MaxPool2DLayer,\n",
       "  {'name': 'maxpool1', 'pool_size': (2, 2)}),\n",
       " (lasagne.layers.conv.Conv2DLayer,\n",
       "  {'filter_size': (5, 5),\n",
       "   'name': 'conv2d2',\n",
       "   'nonlinearity': <function lasagne.nonlinearities.rectify>,\n",
       "   'num_filters': 64,\n",
       "   'pad': 0}),\n",
       " (lasagne.layers.dense.DenseLayer,\n",
       "  {'name': 'output',\n",
       "   'nonlinearity': <function lasagne.nonlinearities.softmax>,\n",
       "   'num_units': 7})]"
      ]
     },
     "execution_count": 43,
     "metadata": {},
     "output_type": "execute_result"
    }
   ],
   "source": [
    "net.layers"
   ]
  },
  {
   "cell_type": "code",
   "execution_count": null,
   "metadata": {},
   "outputs": [],
   "source": []
  }
 ],
 "metadata": {
  "kernelspec": {
   "display_name": "Python 3",
   "language": "python",
   "name": "python3"
  },
  "language_info": {
   "codemirror_mode": {
    "name": "ipython",
    "version": 3
   },
   "file_extension": ".py",
   "mimetype": "text/x-python",
   "name": "python",
   "nbconvert_exporter": "python",
   "pygments_lexer": "ipython3",
   "version": "3.6.4"
  }
 },
 "nbformat": 4,
 "nbformat_minor": 2
}
