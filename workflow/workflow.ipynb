{
 "cells": [
  {
   "cell_type": "code",
   "execution_count": 48,
   "metadata": {},
   "outputs": [
    {
     "data": {
      "text/plain": [
       "['config.ini']"
      ]
     },
     "execution_count": 48,
     "metadata": {},
     "output_type": "execute_result"
    }
   ],
   "source": [
    "import configparser\n",
    "from six.moves import cPickle\n",
    "import glob\n",
    "import pandas as pd\n",
    "import glob\n",
    "import numpy as np\n",
    "import os\n",
    "#import theano\n",
    "#import theano.gpuarray\n",
    "#theano.gpuarray.use(\"cuda\" + str(0))\n",
    "import matplotlib.pyplot as plt\n",
    "from nolearn.lasagne import visualize\n",
    "import matplotlib.pyplot as plt\n",
    "import numpy as np\n",
    "from numpy import genfromtxt\n",
    "import theano\n",
    "import theano.gpuarray\n",
    "import pygpu\n",
    "from pygpu import gpuarray\n",
    "theano.gpuarray.use(\"cuda\"+str(0))\n",
    "from six.moves import cPickle\n",
    "import os\n",
    "import matplotlib.colors as mcolors\n",
    "from mpl_toolkits.axes_grid1 import make_axes_locatable\n",
    "import statistics as stats\n",
    "import glob\n",
    "from texttable import Texttable\n",
    "\n",
    "config = configparser.ConfigParser()\n",
    "config.read('config.ini')"
   ]
  },
  {
   "cell_type": "code",
   "execution_count": 8,
   "metadata": {
    "scrolled": true
   },
   "outputs": [
    {
     "ename": "FileNotFoundError",
     "evalue": "[Errno 2] No such file or directory: 'p_obj.save'",
     "output_type": "error",
     "traceback": [
      "\u001b[0;31m---------------------------------------------------------------------------\u001b[0m",
      "\u001b[0;31mFileNotFoundError\u001b[0m                         Traceback (most recent call last)",
      "\u001b[0;32m<ipython-input-8-da701d51b8c7>\u001b[0m in \u001b[0;36m<module>\u001b[0;34m()\u001b[0m\n\u001b[1;32m      5\u001b[0m \u001b[0mconfig\u001b[0m\u001b[0;34m.\u001b[0m\u001b[0mread\u001b[0m\u001b[0;34m(\u001b[0m\u001b[0;34m'config.ini'\u001b[0m\u001b[0;34m)\u001b[0m\u001b[0;34m\u001b[0m\u001b[0m\n\u001b[1;32m      6\u001b[0m \u001b[0;34m\u001b[0m\u001b[0m\n\u001b[0;32m----> 7\u001b[0;31m \u001b[0mf\u001b[0m\u001b[0;34m=\u001b[0m\u001b[0mopen\u001b[0m\u001b[0;34m(\u001b[0m\u001b[0mconfig\u001b[0m\u001b[0;34m[\u001b[0m\u001b[0;34m'CNNs'\u001b[0m\u001b[0;34m]\u001b[0m\u001b[0;34m[\u001b[0m\u001b[0;34m'Periodic'\u001b[0m\u001b[0;34m]\u001b[0m\u001b[0;34m,\u001b[0m\u001b[0;34m'rb'\u001b[0m\u001b[0;34m)\u001b[0m\u001b[0;34m\u001b[0m\u001b[0m\n\u001b[0m\u001b[1;32m      8\u001b[0m \u001b[0mp_net\u001b[0m\u001b[0;34m=\u001b[0m\u001b[0mcPickle\u001b[0m\u001b[0;34m.\u001b[0m\u001b[0mload\u001b[0m\u001b[0;34m(\u001b[0m\u001b[0mf\u001b[0m\u001b[0;34m)\u001b[0m\u001b[0;34m\u001b[0m\u001b[0m\n\u001b[1;32m      9\u001b[0m \u001b[0mf\u001b[0m\u001b[0;34m.\u001b[0m\u001b[0mclose\u001b[0m\u001b[0;34m(\u001b[0m\u001b[0;34m)\u001b[0m\u001b[0;34m\u001b[0m\u001b[0m\n",
      "\u001b[0;31mFileNotFoundError\u001b[0m: [Errno 2] No such file or directory: 'p_obj.save'"
     ]
    }
   ],
   "source": [
    "# f=open(config['CNNs']['Periodic'],'rb')\n",
    "# p_net=cPickle.load(f)\n",
    "# f.close()\n",
    "\n",
    "# f=open(config['CNNs']['Transient'],'rb')\n",
    "# n_net=cPickle.load(f)\n",
    "# f.close()\n",
    "\n",
    "# f=open(config['CNNs']['Ensemble'],'rb')\n",
    "# e_net=cPickle.load(f)\n",
    "# f.close()\n",
    "\n",
    "f=open(config['CNNs']['Model'],'rb')\n",
    "net=cPickle.load(f)\n",
    "f.close()\n",
    "\n",
    "dmints=config['data']['dmints'].split(',')\n",
    "dmints=[float(dmints[i]) for i in range(len(dmints))]\n",
    "\n",
    "dtints=config['data']['dtints'].split(',')\n",
    "dtints=[float(dtints[i]) for i in range(len(dtints))]\n",
    "\n",
    "classes=config['data']['classes'].split(',')\n",
    "classes=[int(classes[i]) for i in range(len(classes))]\n",
    "\n",
    "l=glob.glob(config['data']['filename'])\n",
    "\n",
    "objid = config['csv']['lcid']\n",
    "mjd = config['csv']['mjd']\n",
    "mag = config['csv']['mag']\n",
    "magerr = config['csv']['magerr']\n",
    "filter_column = config['csv']['filter_column']\n",
    "filter_type = config['csv']['filter_type']\n",
    "\n",
    "x=[]\n",
    "\n",
    "for q in range(len(l)):\n",
    "    name=l[q].split(\".\")[0].split(\"/\")[1] #str(l[q])[:-4]\n",
    "    #os.mkdir(name)\n",
    "    #os.mkdir(name+\"/indiv_dmdt/\")\n",
    "    df=pd.read_csv(l[q])\n",
    "    lcid=sorted(set(df[objid]))\n",
    "    \n",
    "    for ii in range(len(lcid)):\n",
    "        df1=df[df[objid]==lcid[ii]]\n",
    "        df2=df1.loc[df[filter_column]==filter_type]\n",
    "        \n",
    "        if len(df2)>=2:\n",
    "            df3=df2[[objid,mjd,mag]]\n",
    "            mjd=pd.Series.as_matrix(df3[mjd])\n",
    "            mag=pd.Series.as_matrix(df3[mag])\n",
    "\n",
    "            (smjd,smag) = list(zip(*sorted(list(zip(mjd,mag)))))\n",
    "            #dmdt=np.zeros(shape=(len(dmints)-1,len(dtints)-1))\n",
    "            maxpts = (len(mjd)*(len(mjd)-1))/2\n",
    "            dmjd = []\n",
    "            dmag = []\n",
    "\n",
    "            # generate differences (w.r.t. time and mags)\n",
    "            for i in range(len(mjd)):\n",
    "                for j in range(i+1,len(mjd)):\n",
    "                    dmjd.append(mjd[j]-mjd[i])\n",
    "                    dmag.append(mag[j]-mag[i])\n",
    "\n",
    "            # sort w.r.t. to first component (dmjd)\n",
    "            (sdmjd,sdmag) = list(zip(*sorted(list(zip(dmjd,dmag)))))\n",
    "\n",
    "            h=plt.hist2d(sdmjd,sdmag,bins=[dtints,dmints])\n",
    "            dmdt=h[0]\n",
    "            dmdt=np.transpose(dmdt)\n",
    "            dmdt=(maxval*dmdt/maxpts+0.99999).astype(int)\n",
    "\n",
    "            #np.save(name+\"/indiv_dmdt/\"+str(lcid[ii]),dmdt)\n",
    "            \n",
    "            x.append(dmdt)\n",
    "            \n",
    "X_test=np.stack(x)\n",
    "(ff,gg,hh)=X_test.shape\n",
    "X=X_test.reshape(ff,1,gg,hh)\n",
    "preds_prob=net.predict_proba(X)\n",
    "preds=net.predict(X)\n",
    "\n",
    "count=[len(np.where(preds==classes[i])[0]) for i in range(len(classes))]\n",
    "percent=[(count[i]/sum(count))*100.0 for i in range(len(classes))]\n",
    "\n",
    "df_res=pd.DataFrame(np.transpose(np.array([count,percent])), columns=['Nos','% of dataset'], index=classes)\n",
    "\n",
    "df_res.to_csv(config['output']['filename'])\n",
    "\n",
    "            \n",
    "            \n",
    "            \n",
    "\n",
    "            "
   ]
  },
  {
   "cell_type": "code",
   "execution_count": null,
   "metadata": {},
   "outputs": [],
   "source": []
  }
 ],
 "metadata": {
  "kernelspec": {
   "display_name": "Python 3",
   "language": "python",
   "name": "python3"
  },
  "language_info": {
   "codemirror_mode": {
    "name": "ipython",
    "version": 3
   },
   "file_extension": ".py",
   "mimetype": "text/x-python",
   "name": "python",
   "nbconvert_exporter": "python",
   "pygments_lexer": "ipython3",
   "version": "3.6.4"
  }
 },
 "nbformat": 4,
 "nbformat_minor": 2
}
