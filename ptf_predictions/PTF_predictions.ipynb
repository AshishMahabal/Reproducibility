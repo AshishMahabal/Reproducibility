{
 "cells": [
  {
   "cell_type": "code",
   "execution_count": 1,
   "metadata": {},
   "outputs": [
    {
     "name": "stderr",
     "output_type": "stream",
     "text": [
      "WARNING (theano.tensor.blas): Using NumPy C-API based implementation for BLAS functions.\n",
      "Can not use cuDNN on context None: cannot compile with cuDNN. We got this error:\n",
      "b'/tmp/try_flags_6ew4gacn.c:4:10: fatal error: cudnn.h: No such file or directory\\n #include <cudnn.h>\\n          ^~~~~~~~~\\ncompilation terminated.\\n'\n",
      "Mapped name None to device cuda0: Tesla P100-PCIE-12GB (0000:81:00.0)\n",
      "/data/mbg/anaconda3/lib/python3.6/site-packages/lasagne/layers/corrmm.py:37: UserWarning: You are using a GPU layer with Theano configured for double precision (floatX=float64). Depending on your Theano version and GPU, this may be slow or unsupported. We recommend to configure Theano for single precision (floatX=float32); see http://lasagne.readthedocs.org/en/latest/user/installation.html#gpu-support.\n",
      "  warnings.warn(\"You are using a GPU layer with Theano configured for \"\n",
      "/data/mbg/anaconda3/lib/python3.6/site-packages/sklearn/cross_validation.py:41: DeprecationWarning: This module was deprecated in version 0.18 in favor of the model_selection module into which all the refactored classes and functions are moved. Also note that the interface of the new CV iterators are different from that of this module. This module will be removed in 0.20.\n",
      "  \"This module will be removed in 0.20.\", DeprecationWarning)\n"
     ]
    }
   ],
   "source": [
    "import matplotlib.pyplot as plt\n",
    "import numpy as np\n",
    "from numpy import genfromtxt\n",
    "import theano\n",
    "import theano.gpuarray\n",
    "import pygpu\n",
    "from pygpu import gpuarray\n",
    "theano.gpuarray.use(\"cuda\"+str(0))\n",
    "from six.moves import cPickle\n",
    "import os\n",
    "import matplotlib.colors as mcolors\n",
    "from mpl_toolkits.axes_grid1 import make_axes_locatable\n",
    "import statistics as stats\n",
    "\n",
    "e={0:'EW',1:'EA',2:'RRab',3:'RRc',4:'RRd',5:'RSCVn',6:'LPV'}\n",
    "g={0:'AGN',1:'SN', 2:'Fl', 3:'CV', 4:'Bl'}\n",
    "\n",
    "f=open('n_obj.save','rb')\n",
    "n_net=cPickle.load(f)\n",
    "f.close()\n",
    "\n",
    "f=open('p_obj.save','rb')\n",
    "p_net=cPickle.load(f)\n",
    "f.close()\n",
    "\n",
    "f=open('e_obj.save','rb')\n",
    "e_net=cPickle.load(f)\n",
    "f.close()\n",
    "\n",
    "def ptf(x):\n",
    "    \n",
    "    n=np.zeros(5)\n",
    "    p=np.zeros(7)\n",
    "    e=np.zeros(12)\n",
    "\n",
    "    (q,c,d)=x.shape\n",
    "\n",
    "    n=n_net.predict_proba(x.reshape(1,1,c,d))[0]\n",
    "    p=p_net.predict_proba(x.reshape(1,1,c,d))[0]\n",
    "    e=e_net.predict_proba(x.reshape(1,1,c,d))[0]\n",
    "    \n",
    "    print(\"Transient: \"+str(n))\n",
    "    print(\"Periodic: \"+str(p))\n",
    "    print(\"Ensemble: \"+str(e))\n",
    "    "
   ]
  },
  {
   "cell_type": "code",
   "execution_count": 53,
   "metadata": {},
   "outputs": [],
   "source": [
    "x=np.load(\"../code/experiments/cnn/X_test.npy\")"
   ]
  },
  {
   "cell_type": "code",
   "execution_count": 54,
   "metadata": {},
   "outputs": [],
   "source": [
    "y=np.load(\"../code/experiments/cnn/y_test.npy\")"
   ]
  },
  {
   "cell_type": "code",
   "execution_count": 102,
   "metadata": {},
   "outputs": [
    {
     "data": {
      "text/plain": [
       "(array([ 23,  28,  37,  39,  81, 108, 110]),)"
      ]
     },
     "execution_count": 102,
     "metadata": {},
     "output_type": "execute_result"
    }
   ],
   "source": [
    "np.where(y==3)"
   ]
  },
  {
   "cell_type": "code",
   "execution_count": 104,
   "metadata": {},
   "outputs": [
    {
     "name": "stdout",
     "output_type": "stream",
     "text": [
      "Transient: [5.66362840e-07 1.35511874e-02 8.95812382e-01 9.05915167e-02\n",
      " 4.43476297e-05]\n",
      "Periodic: [0.59277261 0.20639075 0.06235608 0.03302218 0.00797565 0.08793525\n",
      " 0.00954747]\n",
      "Ensemble: [6.23960999e-03 1.44453430e-01 5.74931384e-01 1.54317849e-01\n",
      " 1.68714296e-02 5.48922121e-02 5.04175038e-03 1.45586945e-02\n",
      " 1.11921474e-02 9.36611981e-03 7.67497606e-03 4.60396431e-04]\n"
     ]
    }
   ],
   "source": [
    "ptf(x[39])"
   ]
  },
  {
   "cell_type": "code",
   "execution_count": null,
   "metadata": {},
   "outputs": [],
   "source": []
  }
 ],
 "metadata": {
  "kernelspec": {
   "display_name": "Python 3",
   "language": "python",
   "name": "python3"
  },
  "language_info": {
   "codemirror_mode": {
    "name": "ipython",
    "version": 3
   },
   "file_extension": ".py",
   "mimetype": "text/x-python",
   "name": "python",
   "nbconvert_exporter": "python",
   "pygments_lexer": "ipython3",
   "version": "3.6.4"
  }
 },
 "nbformat": 4,
 "nbformat_minor": 2
}
