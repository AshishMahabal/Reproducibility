{
 "cells": [
  {
   "cell_type": "code",
   "execution_count": 18,
   "metadata": {},
   "outputs": [],
   "source": [
    "from util import plot_confusion, plot_misclassifications\n",
    "import numpy as np\n",
    "\n",
    "preds=np.load(\"cnn_same_config/preds.npy\")\n",
    "y_test=np.load(\"cnn_same_config/y_test.npy\")\n",
    "prob=np.load(\"cnn_same_config/preds_proba.npy\")\n",
    "\n",
    "ths=0.9"
   ]
  },
  {
   "cell_type": "code",
   "execution_count": 19,
   "metadata": {},
   "outputs": [],
   "source": [
    "y_ths=np.where(prob>=ths)\n",
    "\n",
    "y_new=y_test[y_ths[0]]\n",
    "preds_new=y_ths[1]\n",
    "\n",
    "pd={0:1,1:2,2:4,3:5,4:6,5:8,6:13}\n",
    "\n",
    "preds_new=np.array([pd[preds_new[i]] for i in range(preds_new.shape[0])])"
   ]
  },
  {
   "cell_type": "code",
   "execution_count": 22,
   "metadata": {},
   "outputs": [],
   "source": [
    "import os\n",
    "os.mkdir(\"cnn\")\n",
    "plot_confusion(y_new, preds_new, \"cnn/improved_confusion_cnn_hpercent.png\")"
   ]
  },
  {
   "cell_type": "code",
   "execution_count": null,
   "metadata": {},
   "outputs": [],
   "source": []
  }
 ],
 "metadata": {
  "kernelspec": {
   "display_name": "Python 3",
   "language": "python",
   "name": "python3"
  },
  "language_info": {
   "codemirror_mode": {
    "name": "ipython",
    "version": 3
   },
   "file_extension": ".py",
   "mimetype": "text/x-python",
   "name": "python",
   "nbconvert_exporter": "python",
   "pygments_lexer": "ipython3",
   "version": "3.6.4"
  }
 },
 "nbformat": 4,
 "nbformat_minor": 2
}
