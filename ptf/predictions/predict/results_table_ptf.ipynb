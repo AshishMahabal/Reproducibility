{
 "cells": [
  {
   "cell_type": "code",
   "execution_count": 10,
   "metadata": {},
   "outputs": [],
   "source": [
    "import pandas as pd\n",
    "import numpy as np\n",
    "\n",
    "df=np.array(pd.read_csv(\"analysis_v3.csv\"))\n",
    "\n",
    "prob=df[:,3:15]\n",
    "\n",
    "class_dist=np.zeros(prob.shape[1])\n",
    "pred=np.argmax(prob, axis=1)\n",
    "\n",
    "for i in range(prob.shape[1]):\n",
    "    class_dist[i]=len(np.where(pred==i)[0])\n",
    "    \n",
    "class_dist=np.array([int(class_dist[i]) for i in range(class_dist.shape[0])])\n",
    "\n",
    "ths=0.9\n",
    "\n",
    "a_ths=np.where(prob>=0.9)\n",
    "ind_ths=a_ths[0]\n",
    "class_ths=a_ths[1]\n",
    "\n",
    "class_dist_ths=np.zeros(prob.shape[1])\n",
    "\n",
    "for i in range(prob.shape[1]):\n",
    "    class_dist_ths[i]=len(np.where(class_ths==i)[0])\n",
    "    \n",
    "class_dist_ths=np.array([int(class_dist_ths[i]) for i in range(class_dist_ths.shape[0])])"
   ]
  },
  {
   "cell_type": "code",
   "execution_count": 11,
   "metadata": {},
   "outputs": [
    {
     "data": {
      "text/plain": [
       "array([52537,  6488,  1728,    24,    93,  3444,  8956,  6010, 61025,\n",
       "       14493, 20447,   231])"
      ]
     },
     "execution_count": 11,
     "metadata": {},
     "output_type": "execute_result"
    }
   ],
   "source": [
    "class_dist"
   ]
  },
  {
   "cell_type": "code",
   "execution_count": 12,
   "metadata": {},
   "outputs": [
    {
     "data": {
      "text/plain": [
       "array([36669,  1552,   139,     4,   127,  2006,  8133,  2903, 36365,\n",
       "       11772,  5442,   133])"
      ]
     },
     "execution_count": 12,
     "metadata": {},
     "output_type": "execute_result"
    }
   ],
   "source": [
    "class_dist_ths"
   ]
  },
  {
   "cell_type": "code",
   "execution_count": null,
   "metadata": {},
   "outputs": [],
   "source": []
  }
 ],
 "metadata": {
  "kernelspec": {
   "display_name": "Python 3",
   "language": "python",
   "name": "python3"
  },
  "language_info": {
   "codemirror_mode": {
    "name": "ipython",
    "version": 3
   },
   "file_extension": ".py",
   "mimetype": "text/x-python",
   "name": "python",
   "nbconvert_exporter": "python",
   "pygments_lexer": "ipython3",
   "version": "3.6.4"
  }
 },
 "nbformat": 4,
 "nbformat_minor": 2
}
