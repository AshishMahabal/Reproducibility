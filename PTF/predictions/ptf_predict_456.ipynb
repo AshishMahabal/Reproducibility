{
 "cells": [
  {
   "cell_type": "code",
   "execution_count": 2,
   "metadata": {},
   "outputs": [
    {
     "name": "stderr",
     "output_type": "stream",
     "text": [
      "Can not use cuDNN on context None: cannot compile with cuDNN. We got this error:\n",
      "b'/tmp/try_flags_a4rsrbx_.c:4:10: fatal error: cudnn.h: No such file or directory\\n #include <cudnn.h>\\n          ^~~~~~~~~\\ncompilation terminated.\\n'\n",
      "Mapped name None to device cuda0: Tesla P100-PCIE-12GB (0000:81:00.0)\n",
      "/data/mbg/anaconda3/lib/python3.6/site-packages/lasagne/layers/corrmm.py:37: UserWarning: You are using a GPU layer with Theano configured for double precision (floatX=float64). Depending on your Theano version and GPU, this may be slow or unsupported. We recommend to configure Theano for single precision (floatX=float32); see http://lasagne.readthedocs.org/en/latest/user/installation.html#gpu-support.\n",
      "  warnings.warn(\"You are using a GPU layer with Theano configured for \"\n",
      "/data/mbg/anaconda3/lib/python3.6/site-packages/sklearn/cross_validation.py:41: DeprecationWarning: This module was deprecated in version 0.18 in favor of the model_selection module into which all the refactored classes and functions are moved. Also note that the interface of the new CV iterators are different from that of this module. This module will be removed in 0.20.\n",
      "  \"This module will be removed in 0.20.\", DeprecationWarning)\n"
     ]
    }
   ],
   "source": [
    "import matplotlib.pyplot as plt\n",
    "import numpy as np\n",
    "from numpy import genfromtxt\n",
    "import theano\n",
    "import theano.gpuarray\n",
    "import pygpu\n",
    "from pygpu import gpuarray\n",
    "theano.gpuarray.use(\"cuda\"+str(0))\n",
    "from six.moves import cPickle\n",
    "import os\n",
    "import matplotlib.colors as mcolors\n",
    "from mpl_toolkits.axes_grid1 import make_axes_locatable\n",
    "import statistics as stats\n",
    "import glob\n",
    "\n",
    "# e={0:'EW',1:'EA',2:'RRab',3:'RRc',4:'RRd',5:'RSCVn',6:'LPV'}\n",
    "# g={0:'AGN',1:'SN', 2:'Fl', 3:'CV', 4:'Bl'}\n",
    "ffs_d={0:'EW',1:'EA',2:'RR',4:'RSCVn',5:'LPV'}\n",
    "\n",
    "# f=open('n_obj.save','rb')\n",
    "# n_net=cPickle.load(f)\n",
    "# f.close()\n",
    "\n",
    "# f=open('p_obj.save','rb')\n",
    "# p_net=cPickle.load(f)\n",
    "# f.close()\n",
    "\n",
    "# f=open('e_obj.save','rb')\n",
    "# e_net=cPickle.load(f)\n",
    "# f.close()\n",
    "\n",
    "f=open('obj.save_456','rb')\n",
    "ffs_net=cPickle.load(f)\n",
    "f.close()\n",
    "\n",
    "def test(x):\n",
    "    \n",
    "#     n=np.zeros(5)\n",
    "#     p=np.zeros(7)\n",
    "#     e=np.zeros(12)\n",
    "\n",
    "    ffs=np.zeros(5)\n",
    "    (c,d)=x.shape\n",
    "\n",
    "#     n=n_net.predict_proba(x.reshape(1,1,c,d))[0]\n",
    "#     p=p_net.predict_proba(x.reshape(1,1,c,d))[0]\n",
    "#     e=e_net.predict_proba(x.reshape(1,1,c,d))[0]\n",
    "\n",
    "    ffs=ffs_net.predict_proba(x.reshape(1,1,c,d))[0]\n",
    "    \n",
    "    #print(\"Transient: \"+str(n))\n",
    "    #print(\"Periodic: \"+str(p))\n",
    "    #print(\"Ensemble: \"+str(e))\n",
    "    return ffs"
   ]
  },
  {
   "cell_type": "code",
   "execution_count": 3,
   "metadata": {},
   "outputs": [],
   "source": [
    "x=np.load(\"ptf_dmdts.npy\")"
   ]
  },
  {
   "cell_type": "code",
   "execution_count": 4,
   "metadata": {},
   "outputs": [],
   "source": [
    "#prob_n=[]\n",
    "#prob_p=[]\n",
    "#prob_e=[]\n",
    "prob_ffs=[]\n",
    "for ii in range(x.shape[0]):\n",
    "    #nn,pp,ee=test(x[ii])\n",
    "    ffs_a=test(x[ii])\n",
    "    #prob_n.append(nn)\n",
    "    #prob_p.append(pp)\n",
    "    #prob_e.append(ee)\n",
    "    prob_ffs.append(ffs_a)\n",
    "\n",
    "os.mkdir(\"predict_456/\")\n",
    "np.save(\"predict_456/ptf_prob_456\",np.stack(prob_ffs))\n",
    "#np.save(\"predict_v2/ptf_prob_n\",np.stack(prob_n))\n",
    "#np.save(\"predict_v2/ptf_prob_p\",np.stack(prob_p))\n",
    "#np.save(\"predict_v2/ptf_prob_e\",np.stack(prob_e))"
   ]
  },
  {
   "cell_type": "code",
   "execution_count": null,
   "metadata": {},
   "outputs": [],
   "source": []
  }
 ],
 "metadata": {
  "kernelspec": {
   "display_name": "Python 3",
   "language": "python",
   "name": "python3"
  },
  "language_info": {
   "codemirror_mode": {
    "name": "ipython",
    "version": 3
   },
   "file_extension": ".py",
   "mimetype": "text/x-python",
   "name": "python",
   "nbconvert_exporter": "python",
   "pygments_lexer": "ipython3",
   "version": "3.6.4"
  }
 },
 "nbformat": 4,
 "nbformat_minor": 2
}
