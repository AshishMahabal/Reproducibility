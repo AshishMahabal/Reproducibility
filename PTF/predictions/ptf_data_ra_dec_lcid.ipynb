{
 "cells": [
  {
   "cell_type": "code",
   "execution_count": 46,
   "metadata": {},
   "outputs": [],
   "source": [
    "import numpy as np\n",
    "import glob\n",
    "import pandas as pd\n",
    "\n",
    "l=glob.glob(\"dat/*.dat\")"
   ]
  },
  {
   "cell_type": "code",
   "execution_count": 48,
   "metadata": {},
   "outputs": [],
   "source": [
    "ra=np.zeros(len(l))\n",
    "dec=np.zeros(len(l))\n",
    "lcid=np.array(['' for i in range(len(l))],dtype='<U50')\n",
    "for q in range(len(l)):\n",
    "    df=pd.read_table(l[q],header=None,delim_whitespace=True)\n",
    "    ra[q]=pd.Series.as_matrix(df[3])[0]\n",
    "    dec[q]=pd.Series.as_matrix(df[4])[0]\n",
    "    lcid[q]=l[q][4:-4]\n",
    "    \n",
    "np.save(\"ptf_data_ra\",ra)\n",
    "np.save(\"ptf_data_dec\",dec)\n",
    "np.save(\"ptf_data_lcid\",lcid)\n",
    "    "
   ]
  },
  {
   "cell_type": "code",
   "execution_count": null,
   "metadata": {},
   "outputs": [],
   "source": []
  }
 ],
 "metadata": {
  "kernelspec": {
   "display_name": "Python 3",
   "language": "python",
   "name": "python3"
  },
  "language_info": {
   "codemirror_mode": {
    "name": "ipython",
    "version": 3
   },
   "file_extension": ".py",
   "mimetype": "text/x-python",
   "name": "python",
   "nbconvert_exporter": "python",
   "pygments_lexer": "ipython3",
   "version": "3.6.4"
  }
 },
 "nbformat": 4,
 "nbformat_minor": 2
}
