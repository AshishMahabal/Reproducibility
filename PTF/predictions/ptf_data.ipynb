{
 "cells": [
  {
   "cell_type": "code",
   "execution_count": 1,
   "metadata": {},
   "outputs": [],
   "source": [
    "import pandas as pd\n",
    "import numpy as np\n",
    "import glob\n",
    "import os\n",
    "import matplotlib.pyplot as plt\n",
    "\n",
    "l=glob.glob(\"dat/*.dat\")\n",
    "#os.mkdir(\"indiv_dmdt\")\n",
    "\n",
    "maxval = 255\n",
    "\n",
    "dmints = [-8,-5,-3,-2.5,-2,-1.5,-1,-0.5,-0.3,-0.2,-0.1,0,0.1,0.2,0.3,0.5,1,1.5,2,2.5,3,5,8]\n",
    "dtints = [0.0,1.0/145,2.0/145,3.0/145,4.0/145,1.0/25,2.0/25,3.0/25,1.5,2.5,3.5,4.5,5.5,7,10,20,30,60,90,120,240,600,960,2000,4000]"
   ]
  },
  {
   "cell_type": "code",
   "execution_count": 2,
   "metadata": {},
   "outputs": [
    {
     "data": {
      "image/png": "[encoded data removed]",
      "text/plain": [
       "<Figure size 432x288 with 1 Axes>"
      ]
     },
     "metadata": {},
     "output_type": "display_data"
    }
   ],
   "source": [
    "for q in range(144572,150000):\n",
    "    df=pd.read_table(l[q],header=None,delim_whitespace=True)\n",
    "    mjd=pd.Series.as_matrix(df[0])\n",
    "    mag=pd.Series.as_matrix(df[1])\n",
    "    lcid=list(set(pd.Series.as_matrix(df[5])))[0]\n",
    "    (smjd,smag) = list(zip(*sorted(list(zip(mjd,mag)))))\n",
    "    #dmdt=np.zeros(shape=(len(dmints)-1,len(dtints)-1))\n",
    "    maxpts = (len(mjd)*(len(mjd)-1))/2\n",
    "    dmjd = []\n",
    "    dmag = []\n",
    "\n",
    "    # generate differences (w.r.t. time and mags)\n",
    "    for i in range(len(mjd)):\n",
    "        for j in range(i+1,len(mjd)):\n",
    "            dmjd.append(mjd[j]-mjd[i])\n",
    "            dmag.append(mag[j]-mag[i])\n",
    "\n",
    "    # sort w.r.t. to first component (dmjd)\n",
    "    (sdmjd,sdmag) = list(zip(*sorted(list(zip(dmjd,dmag)))))\n",
    "        \n",
    "    h=plt.hist2d(sdmjd,sdmag,bins=[dtints,dmints])\n",
    "    dmdt=h[0]\n",
    "    dmdt=np.transpose(dmdt)\n",
    "    dmdt=(maxval*dmdt/maxpts+0.99999).astype(int)\n",
    "        \n",
    "    np.save(\"indiv_dmdt/\"+lcid,dmdt)\n",
    "    \n",
    "    "
   ]
  },
  {
   "cell_type": "code",
   "execution_count": null,
   "metadata": {},
   "outputs": [],
   "source": []
  }
 ],
 "metadata": {
  "kernelspec": {
   "display_name": "Python 3",
   "language": "python",
   "name": "python3"
  },
  "language_info": {
   "codemirror_mode": {
    "name": "ipython",
    "version": 3
   },
   "file_extension": ".py",
   "mimetype": "text/x-python",
   "name": "python",
   "nbconvert_exporter": "python",
   "pygments_lexer": "ipython3",
   "version": "3.6.4"
  }
 },
 "nbformat": 4,
 "nbformat_minor": 2
}
