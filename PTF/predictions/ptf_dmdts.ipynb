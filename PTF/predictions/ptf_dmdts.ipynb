{
 "cells": [
  {
   "cell_type": "code",
   "execution_count": 11,
   "metadata": {},
   "outputs": [],
   "source": [
    "import numpy as np\n",
    "import glob\n",
    "\n",
    "l1=glob.glob(\"indiv_dmdt/*.npy\")\n",
    "l2=glob.glob(\"indiv_dmdt_150000/*.npy\")\n",
    "l3=glob.glob(\"indiv_dmdt_160000/*.npy\")\n",
    "\n",
    "l=l1+l2+l3\n",
    "x=[]\n",
    "for i in range(len(l)):\n",
    "    x.append(np.load(l[i]))\n",
    "np.save(\"ptf_dmdts\",np.stack(x))"
   ]
  },
  {
   "cell_type": "code",
   "execution_count": null,
   "metadata": {},
   "outputs": [],
   "source": []
  }
 ],
 "metadata": {
  "kernelspec": {
   "display_name": "Python 3",
   "language": "python",
   "name": "python3"
  },
  "language_info": {
   "codemirror_mode": {
    "name": "ipython",
    "version": 3
   },
   "file_extension": ".py",
   "mimetype": "text/x-python",
   "name": "python",
   "nbconvert_exporter": "python",
   "pygments_lexer": "ipython3",
   "version": "3.6.4"
  }
 },
 "nbformat": 4,
 "nbformat_minor": 2
}
