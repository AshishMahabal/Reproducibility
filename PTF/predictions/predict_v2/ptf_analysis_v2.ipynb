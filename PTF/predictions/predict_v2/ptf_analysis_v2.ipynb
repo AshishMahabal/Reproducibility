{
 "cells": [
  {
   "cell_type": "code",
   "execution_count": 18,
   "metadata": {},
   "outputs": [],
   "source": [
    "import numpy as np\n",
    "\n",
    "prob_e=np.load(\"ptf_prob_p.npy\")\n",
    "\n",
    "ths=0.2\n",
    "\n",
    "ed={0:'AGN',1:'SN',2:'Fl',3:'CV',4:'Bl',5:'EW',6:'EA',7:'RRab',8:'RRc',9:'RRd',10:'RSCVn',11:'LPV'}\n",
    "pd={0:'EW',1:'EA',2:'RRab',3:'RRc',4:'RRd',5:'RSCVn',6:'LPV'}\n",
    "\n",
    "[m,n]=prob_e.shape\n",
    "y=np.array(['' for i in range(m)], dtype='<U26')\n",
    "\n",
    "prob_e_sort=np.sort(prob_e)\n",
    "\n",
    "prob_e_sort=np.array([prob_e_sort[i][::-1] for i in range(prob_e_sort.shape[0])])\n",
    "\n",
    "prob_e_diff=np.array([prob_e_sort[i][0]-prob_e_sort[i][1] for i in range(prob_e_sort.shape[0])])\n",
    "\n",
    "prob_e_diff_threshold=np.where(prob_e_diff>=ths)[0]\n",
    "\n",
    "#prob_max_threshold=np.where(prob_e_sort)\n",
    "\n",
    "for ii in range(prob_e_diff_threshold.shape[0]):\n",
    "    y[prob_e_diff_threshold[ii]]=pd[np.where(prob_e[prob_e_diff_threshold[ii]]==prob_e_sort[prob_e_diff_threshold[ii]][0])[0][0]]\n",
    "\n",
    "num_y=np.zeros(n)\n",
    "for ii in range(n):\n",
    "    num_y[ii]=len(np.where(y==pd[ii])[0])\n",
    "    \n",
    "max_threshold=np.where(prob_e>=0.8)\n",
    "indices_max_threshold=max_threshold[0]\n",
    "arg_max_threshold=max_threshold[1]\n",
    "\n",
    "amp=np.load(\"../ptf_data_amplitude.npy\")\n",
    "\n",
    "\n",
    "\n",
    "amp02=np.where(amp>=0.2)[0]\n",
    "amp05=np.where(amp>=0.5)[0]\n",
    "amp1=np.where(amp>=1.0)[0]\n"
   ]
  },
  {
   "cell_type": "code",
   "execution_count": 5,
   "metadata": {},
   "outputs": [
    {
     "data": {
      "text/plain": [
       "array([ 82049.,  17026.,   6228.,    103.,    251.,  15299.,  18484.])"
      ]
     },
     "execution_count": 5,
     "metadata": {},
     "output_type": "execute_result"
    }
   ],
   "source": [
    "num_y"
   ]
  },
  {
   "cell_type": "code",
   "execution_count": 4,
   "metadata": {},
   "outputs": [
    {
     "data": {
      "text/plain": [
       "139440.0"
      ]
     },
     "execution_count": 4,
     "metadata": {},
     "output_type": "execute_result"
    }
   ],
   "source": [
    "sum(num_y)"
   ]
  },
  {
   "cell_type": "code",
   "execution_count": 27,
   "metadata": {},
   "outputs": [
    {
     "data": {
      "text/plain": [
       "84408"
      ]
     },
     "execution_count": 27,
     "metadata": {},
     "output_type": "execute_result"
    }
   ],
   "source": [
    "len(np.intersect1d(prob_e_diff_threshold,amp02))"
   ]
  },
  {
   "cell_type": "code",
   "execution_count": 30,
   "metadata": {},
   "outputs": [
    {
     "data": {
      "text/plain": [
       "(2697,)"
      ]
     },
     "execution_count": 30,
     "metadata": {},
     "output_type": "execute_result"
    }
   ],
   "source": [
    "amp1.shape"
   ]
  },
  {
   "cell_type": "code",
   "execution_count": 34,
   "metadata": {},
   "outputs": [],
   "source": [
    "num_max_threshold=np.zeros(n)\n",
    "for i in range(n):\n",
    "    num_max_threshold[i]=len(np.where(arg_max_threshold==i)[0])"
   ]
  },
  {
   "cell_type": "code",
   "execution_count": 36,
   "metadata": {},
   "outputs": [],
   "source": [
    "num_max_threshold=[int(num_max_threshold[i]) for i in range(n)]"
   ]
  },
  {
   "cell_type": "code",
   "execution_count": 37,
   "metadata": {},
   "outputs": [
    {
     "data": {
      "text/plain": [
       "[54682, 4375, 669, 9, 164, 4545, 11176]"
      ]
     },
     "execution_count": 37,
     "metadata": {},
     "output_type": "execute_result"
    }
   ],
   "source": [
    "num_max_threshold"
   ]
  },
  {
   "cell_type": "code",
   "execution_count": 19,
   "metadata": {},
   "outputs": [],
   "source": [
    "r1=np.intersect1d(indices_max_threshold,amp02)\n",
    "r2=np.intersect1d(indices_max_threshold,amp05)\n",
    "r3=np.intersect1d(indices_max_threshold,amp1)"
   ]
  },
  {
   "cell_type": "code",
   "execution_count": 39,
   "metadata": {
    "scrolled": true
   },
   "outputs": [],
   "source": [
    "y_r1=np.array([y[r1[i]] for i in range(r1.shape[0])])\n",
    "y_r2=np.array([y[r2[i]] for i in range(r2.shape[0])])\n",
    "y_r3=np.array([y[r3[i]] for i in range(r3.shape[0])])"
   ]
  },
  {
   "cell_type": "code",
   "execution_count": 41,
   "metadata": {},
   "outputs": [],
   "source": [
    "num_r1=np.zeros(n)\n",
    "num_r2=np.zeros(n)\n",
    "num_r3=np.zeros(n)\n",
    "for i in range(n):\n",
    "    num_r1[i]=len(np.where(y_r1==pd[i])[0])\n",
    "    num_r2[i]=len(np.where(y_r2==pd[i])[0])\n",
    "    num_r3[i]=len(np.where(y_r3==pd[i])[0])"
   ]
  },
  {
   "cell_type": "code",
   "execution_count": 43,
   "metadata": {},
   "outputs": [],
   "source": [
    "num_r1=[int(num_r1[i]) for i in range(n)] \n",
    "num_r2=[int(num_r2[i]) for i in range(n)] \n",
    "num_r3=[int(num_r3[i]) for i in range(n)] "
   ]
  },
  {
   "cell_type": "code",
   "execution_count": 44,
   "metadata": {},
   "outputs": [
    {
     "data": {
      "text/plain": [
       "[27883, 3451, 623, 5, 44, 1215, 6041]"
      ]
     },
     "execution_count": 44,
     "metadata": {},
     "output_type": "execute_result"
    }
   ],
   "source": [
    "num_r1"
   ]
  },
  {
   "cell_type": "code",
   "execution_count": 45,
   "metadata": {},
   "outputs": [
    {
     "data": {
      "text/plain": [
       "[7507, 1106, 379, 1, 5, 126, 1103]"
      ]
     },
     "execution_count": 45,
     "metadata": {},
     "output_type": "execute_result"
    }
   ],
   "source": [
    "num_r2"
   ]
  },
  {
   "cell_type": "code",
   "execution_count": 46,
   "metadata": {},
   "outputs": [
    {
     "data": {
      "text/plain": [
       "[819, 160, 25, 0, 0, 9, 63]"
      ]
     },
     "execution_count": 46,
     "metadata": {},
     "output_type": "execute_result"
    }
   ],
   "source": [
    "num_r3"
   ]
  },
  {
   "cell_type": "code",
   "execution_count": 47,
   "metadata": {},
   "outputs": [
    {
     "data": {
      "text/plain": [
       "39262"
      ]
     },
     "execution_count": 47,
     "metadata": {},
     "output_type": "execute_result"
    }
   ],
   "source": [
    "sum(num_r1)"
   ]
  },
  {
   "cell_type": "code",
   "execution_count": null,
   "metadata": {},
   "outputs": [],
   "source": []
  }
 ],
 "metadata": {
  "kernelspec": {
   "display_name": "Python 3",
   "language": "python",
   "name": "python3"
  },
  "language_info": {
   "codemirror_mode": {
    "name": "ipython",
    "version": 3
   },
   "file_extension": ".py",
   "mimetype": "text/x-python",
   "name": "python",
   "nbconvert_exporter": "python",
   "pygments_lexer": "ipython3",
   "version": "3.6.4"
  }
 },
 "nbformat": 4,
 "nbformat_minor": 2
}
