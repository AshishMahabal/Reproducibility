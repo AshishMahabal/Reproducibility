{
 "cells": [
  {
   "cell_type": "code",
   "execution_count": 145,
   "metadata": {},
   "outputs": [],
   "source": [
    "import numpy as np\n",
    "\n",
    "prob_p=np.load(\"ptf_prob_p.npy\")\n",
    "prob_n=np.load(\"ptf_prob_n.npy\")\n",
    "ra=np.load(\"../ptf_data_ra.npy\")\n",
    "dec=np.load(\"../ptf_data_dec.npy\")\n",
    "lcid=np.load(\"../ptf_data_lcid.npy\")\n",
    "\n",
    "#lcid=np.array([int(lcid[ii]) for ii in range(lcid.shape[0])])\n",
    "ra=np.round(ra,4)\n",
    "dec=np.round(dec,4)\n",
    "prob_p=np.round(prob_p,4)\n",
    "prob_n=np.round(prob_n,4)\n",
    "\n",
    "(m,n)=prob_e.shape\n",
    "\n",
    "results=np.zeros((m,15))\n",
    "\n",
    "for i in range(m):\n",
    "    #results[i,0]=lcid[i]\n",
    "    results[i,0]=ra[i]\n",
    "    results[i,1]=dec[i]\n",
    "    results[i,2:9]=prob_p[i]\n",
    "    results[i,9:14]=prob_n[i]\n",
    "    \n",
    "np.save(\"analysis_v3\",results)\n",
    "\n",
    "import pandas as pd\n",
    "df=pd.DataFrame(results)\n",
    "df[14]=lcid\n",
    "df.to_csv(\"analysis_v3.csv\",header=['RA','Dec','EW','EA','RRab','RRc','RRd','RSCVn','LPV','AGN','SN','Flare','CV','Blazar','lcid'])"
   ]
  },
  {
   "cell_type": "code",
   "execution_count": null,
   "metadata": {},
   "outputs": [],
   "source": []
  }
 ],
 "metadata": {
  "kernelspec": {
   "display_name": "Python 3",
   "language": "python",
   "name": "python3"
  },
  "language_info": {
   "codemirror_mode": {
    "name": "ipython",
    "version": 3
   },
   "file_extension": ".py",
   "mimetype": "text/x-python",
   "name": "python",
   "nbconvert_exporter": "python",
   "pygments_lexer": "ipython3",
   "version": "3.6.4"
  }
 },
 "nbformat": 4,
 "nbformat_minor": 2
}
