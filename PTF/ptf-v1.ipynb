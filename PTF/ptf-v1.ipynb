{
 "cells": [
  {
   "cell_type": "code",
   "execution_count": null,
   "metadata": {},
   "outputs": [
    {
     "name": "stderr",
     "output_type": "stream",
     "text": [
      "WARNING (theano.tensor.blas): Using NumPy C-API based implementation for BLAS functions.\n",
      "Can not use cuDNN on context None: cannot compile with cuDNN. We got this error:\n",
      "b'/tmp/try_flags_18epx42f.c:4:10: fatal error: cudnn.h: No such file or directory\\n #include <cudnn.h>\\n          ^~~~~~~~~\\ncompilation terminated.\\n'\n",
      "Mapped name None to device cuda0: Tesla P100-PCIE-12GB (0000:81:00.0)\n",
      "/data/mbg/anaconda3/lib/python3.6/site-packages/lasagne/layers/corrmm.py:37: UserWarning: You are using a GPU layer with Theano configured for double precision (floatX=float64). Depending on your Theano version and GPU, this may be slow or unsupported. We recommend to configure Theano for single precision (floatX=float32); see http://lasagne.readthedocs.org/en/latest/user/installation.html#gpu-support.\n",
      "  warnings.warn(\"You are using a GPU layer with Theano configured for \"\n",
      "/data/mbg/anaconda3/lib/python3.6/site-packages/sklearn/cross_validation.py:41: DeprecationWarning: This module was deprecated in version 0.18 in favor of the model_selection module into which all the refactored classes and functions are moved. Also note that the interface of the new CV iterators are different from that of this module. This module will be removed in 0.20.\n",
      "  \"This module will be removed in 0.20.\", DeprecationWarning)\n"
     ]
    }
   ],
   "source": [
    "import matplotlib.pyplot as plt\n",
    "import numpy as np\n",
    "from numpy import genfromtxt\n",
    "import theano\n",
    "import theano.gpuarray\n",
    "import pygpu\n",
    "from pygpu import gpuarray\n",
    "theano.gpuarray.use(\"cuda\"+str(0))\n",
    "from six.moves import cPickle\n",
    "import os\n",
    "import matplotlib.colors as mcolors\n",
    "from mpl_toolkits.axes_grid1 import make_axes_locatable\n",
    "import statistics as stats\n",
    "\n",
    "e={0:'EW',1:'EA',2:'RRab',3:'RRc',4:'RRd',5:'RSCVn',6:'LPV'}\n",
    "g={0:'AGN',1:'SN', 2:'Fl', 3:'CV', 4:'Bl'}\n",
    "\n",
    "f=open('n_obj.save','rb')\n",
    "n_net=cPickle.load(f)\n",
    "f.close()\n",
    "\n",
    "f=open('p_obj.save','rb')\n",
    "p_net=cPickle.load(f)\n",
    "f.close()\n",
    "\n",
    "def ptf(x):\n",
    "    \n",
    "    n=np.zeros(5)\n",
    "    p=np.zeros(7)\n",
    "\n",
    "    (q,c,d)=x.shape\n",
    "\n",
    "    n=n_net.predict_proba(x.reshape(1,1,c,d))[0]\n",
    "    p=p_net.predict_proba(x.reshape(1,1,c,d))[0]\n",
    "    \n",
    "    n_sort=sorted(n)\n",
    "    p_sort=sorted(p)\n",
    "    \n",
    "    n_med=stats.median(n)\n",
    "    p_med=stats.median(p)\n",
    "    \n",
    "    n_mean=n.mean()\n",
    "    p_mean=p.mean()\n",
    "    \n",
    "    n_max=n.max()\n",
    "    p_max=p.max()\n",
    "    \n",
    "    print(\"Median: \"+str(n_med)#+\"\\nMean: \"+str(n_mean)\n",
    "          +\"\\nNon-Periodic: \"+str(n))\n",
    "    print(\"Median: \"+str(p_med)#+\"\\nMean: \"+str(p_mean)\n",
    "          +\"\\nPeriodic: \"+str(p))\n",
    "    \n",
    "    print(n_sort[4]-n_sort[3])\n",
    "    print(p_sort[6]-p_sort[5])\n",
    "    \n",
    "    if abs(n_max-p_max)>=0.1:\n",
    "        if n_max>=0.8 and n_med>p_med:\n",
    "            r=np.where(n==n_max)[0]\n",
    "            print(g[r[0]]+\", Non-Periodic: \"+str(n_max))\n",
    "\n",
    "        elif p_max>=0.8 and p_med>n_med:\n",
    "            r=np.where(p==p_max)[0]\n",
    "            print(e[r[0]]+\", Periodic: \"+str(p_max))\n",
    "\n",
    "        elif max(p_max,n_max)<0.3:\n",
    "            print(\"None of the above class\")\n",
    "            \n",
    "    else:\n",
    "        \n",
    "        if (p_sort[6]-p_sort[5])>(n_sort[4]-n_sort[3]):\n",
    "            r=np.where(p==p_max)[0]\n",
    "            print(e[r[0]]+\", Periodic: \"+str(p_max))\n",
    "\n",
    "        if (p_sort[6]-p_sort[5])<(n_sort[4]-n_sort[3]):\n",
    "            r=np.where(n==n_max)[0]\n",
    "            print(g[r[0]]+\", Non-Periodic: \"+str(n_max))\n",
    "        \n",
    "        \n"
   ]
  },
  {
   "cell_type": "code",
   "execution_count": 2,
   "metadata": {},
   "outputs": [],
   "source": [
    "x=np.load(\"../periodic/code/experiments/cnn/X_test.npy\")"
   ]
  },
  {
   "cell_type": "code",
   "execution_count": 3,
   "metadata": {},
   "outputs": [],
   "source": [
    "y=np.load(\"../periodic/code/experiments/cnn/y_test.npy\")"
   ]
  },
  {
   "cell_type": "code",
   "execution_count": 4,
   "metadata": {},
   "outputs": [
    {
     "data": {
      "text/plain": [
       "1"
      ]
     },
     "execution_count": 4,
     "metadata": {},
     "output_type": "execute_result"
    }
   ],
   "source": [
    "y[343]"
   ]
  },
  {
   "cell_type": "code",
   "execution_count": 6,
   "metadata": {},
   "outputs": [
    {
     "name": "stdout",
     "output_type": "stream",
     "text": [
      "Median: 8.947831272117256e-08\n",
      "Non-Periodic: [2.44691310e-11 1.29772225e-05 9.99986933e-01 8.94783127e-08\n",
      " 1.59190065e-17]\n",
      "Median: 0.007700671721463592\n",
      "Periodic: [0.54378112 0.00589847 0.00172602 0.0086509  0.00770067 0.43002284\n",
      " 0.00221998]\n",
      "0.9999739560522062\n",
      "0.1137582726869295\n"
     ]
    }
   ],
   "source": [
    "ptf(x[343])"
   ]
  },
  {
   "cell_type": "code",
   "execution_count": null,
   "metadata": {},
   "outputs": [],
   "source": []
  }
 ],
 "metadata": {
  "kernelspec": {
   "display_name": "Python 3",
   "language": "python",
   "name": "python3"
  },
  "language_info": {
   "codemirror_mode": {
    "name": "ipython",
    "version": 3
   },
   "file_extension": ".py",
   "mimetype": "text/x-python",
   "name": "python",
   "nbconvert_exporter": "python",
   "pygments_lexer": "ipython3",
   "version": "3.6.4"
  }
 },
 "nbformat": 4,
 "nbformat_minor": 2
}
